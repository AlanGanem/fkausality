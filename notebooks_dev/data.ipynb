{
 "cells": [
  {
   "cell_type": "code",
   "execution_count": null,
   "id": "73ce88e7-08c4-4c2a-8fa4-ec1289436747",
   "metadata": {},
   "outputs": [],
   "source": [
    "#default_exp data"
   ]
  },
  {
   "cell_type": "markdown",
   "id": "7a865ee4-ae1b-4b04-b16b-6136ae638050",
   "metadata": {
    "tags": []
   },
   "source": [
    "# Data\n",
    "> Module containing datasets and data generating processes (DGPs)"
   ]
  },
  {
   "cell_type": "code",
   "execution_count": 1,
   "id": "f651da8b-e635-4709-b218-5e1eadab9c80",
   "metadata": {},
   "outputs": [],
   "source": [
    "#export\n",
    "from sklearn.datasets import make_regression\n",
    "import pandas as pd\n",
    "import numpy as np"
   ]
  },
  {
   "cell_type": "code",
   "execution_count": 2,
   "id": "bdfe32d8-b24e-4396-bc06-54bae162de33",
   "metadata": {},
   "outputs": [],
   "source": [
    "import seaborn as sns\n",
    "from matplotlib import cm\n"
   ]
  },
  {
   "cell_type": "code",
   "execution_count": 4,
   "id": "2a80a05e-49da-436f-b218-ef90e59eb535",
   "metadata": {},
   "outputs": [],
   "source": [
    "#export\n",
    "def sigmoid(x):\n",
    "    return 1/(1+np.exp(x))\n",
    "\n",
    "def make_bimodal_assymetric_regression(\n",
    "    n_samples=100000,\n",
    "    bimodal_factor_weight = 2,\n",
    "    n_features=15,\n",
    "    n_informative=6,\n",
    "    n_targets=2,\n",
    "    bias=500,\n",
    "    effective_rank=None,\n",
    "    tail_strength=10,\n",
    "    noise=150,\n",
    "    shuffle=True,\n",
    "    coef=False,\n",
    "    random_state=None\n",
    "):\n",
    "    \n",
    "    X,y = make_regression(\n",
    "        n_samples=n_samples,\n",
    "        n_features=n_features,\n",
    "        n_informative=n_informative,\n",
    "        n_targets=n_targets,\n",
    "        bias=bias,\n",
    "        effective_rank=effective_rank,\n",
    "        tail_strength=tail_strength,\n",
    "        noise=noise,\n",
    "        shuffle=shuffle,\n",
    "        coef=coef,\n",
    "        random_state=random_state\n",
    "    )\n",
    "\n",
    "\n",
    "    #make one of X[1] feature mode weightening    \n",
    "    bimodal_factors = (sigmoid(bimodal_factor_weight*X[:,-1]) > np.random.random(size = X.shape[0])).astype(int)\n",
    "    bimodal_factors[bimodal_factors == 0] = -1\n",
    "    bimodal_factors = bimodal_factors.reshape(-1,1)\n",
    "\n",
    "    y = bimodal_factors*y\n",
    "    \n",
    "    return X,y"
   ]
  },
  {
   "cell_type": "code",
   "execution_count": 6,
   "id": "53ab6784-d71c-4c86-bef4-188afe963d76",
   "metadata": {},
   "outputs": [],
   "source": [
    "#export\n",
    "\n",
    "def make_confounded_data(n: int):\n",
    "    \"\"\"\n",
    "    BORROWED FROM FKLEARN\n",
    "    \n",
    "    Generates fake data for counterfactual experimentation. The covariants are\n",
    "    sex, age and severity, the treatment is a binary variable, medication and the response\n",
    "    days until recovery.\n",
    "\n",
    "    Parameters\n",
    "    ----------\n",
    "    n : int\n",
    "        The number of samples to generate\n",
    "\n",
    "    Returns\n",
    "    ----------\n",
    "    df_rnd : pd.DataFrame\n",
    "        A dataframe where the treatment is randomly assigned.\n",
    "\n",
    "    df_obs : pd.DataFrame\n",
    "        A dataframe with confounding.\n",
    "\n",
    "    df_df : pd.DataFrame\n",
    "        A counter factual dataframe with confounding. Same as df_obs, but\n",
    "        with the treatment flipped.\n",
    "    \"\"\"\n",
    "\n",
    "    def get_severity(df: pd.DataFrame) -> np.ndarray:\n",
    "        return ((np.random.beta(1, 3, size=df.shape[0]) * (df[\"age\"] < 30))\n",
    "                + (np.random.beta(3, 1.5, size=df.shape[0]) * (df[\"age\"] >= 30)))\n",
    "\n",
    "    def get_treatment(df: pd.DataFrame) -> pd.Series:\n",
    "        return (.33 * df[\"sex\"]\n",
    "                + 1.5 * df[\"severity\"]\n",
    "                + 0.15 * np.random.normal(size=df.shape[0]) > 0.8).astype(float)\n",
    "\n",
    "    def get_recovery(df: pd.DataFrame) -> np.ndarray:\n",
    "        return np.random.poisson(np.exp(2\n",
    "                                        + 0.5 * df[\"sex\"]\n",
    "                                        + 0.03 * df[\"age\"]\n",
    "                                        + df[\"severity\"]\n",
    "                                        - df[\"medication\"]))\n",
    "\n",
    "    np.random.seed(1111)\n",
    "    sexes = np.random.randint(0, 2, size=n)\n",
    "    ages = np.random.gamma(8, scale=4, size=n)\n",
    "    meds = np.random.randint(0, 2, size=n)\n",
    "\n",
    "    # random data\n",
    "    df_rnd = pd.DataFrame(dict(sex=sexes, age=ages, medication=meds))\n",
    "    df_rnd['severity'] = get_severity(df_rnd)\n",
    "    df_rnd['recovery'] = get_recovery(df_rnd)\n",
    "\n",
    "    features = ['sex', 'age', 'severity', 'medication', 'recovery']\n",
    "    df_rnd = df_rnd[features]  # to enforce column order\n",
    "\n",
    "    # obs data\n",
    "    df_obs = df_rnd.copy()\n",
    "    df_obs['medication'] = get_treatment(df_obs)\n",
    "    df_obs['recovery'] = get_recovery(df_obs)\n",
    "\n",
    "    # caunter_factual data\n",
    "    df_ctf = df_obs.copy()\n",
    "    df_ctf['medication'] = ((df_ctf['medication'] == 1) ^ 1).astype(float)\n",
    "    df_ctf['recovery'] = get_recovery(df_ctf)\n",
    "\n",
    "    return df_rnd, df_obs, df_ctf"
   ]
  },
  {
   "cell_type": "code",
   "execution_count": 8,
   "id": "071da322-4143-41fb-8b15-b96eb1fa6a64",
   "metadata": {},
   "outputs": [],
   "source": [
    "#colors = cm.get_cmap('binary')(256*(sigmoid(bimodal_factor_wieght*X[:,-1]) > np.random.random(size = X.shape[0])).astype(int))\n",
    "\n",
    "#sns.jointplot(y[:,0],y[:,1], joint_kws = {'color': colors}, alpha = 0.01)\n",
    "\n",
    "#sns.jointplot(X[:,-1], y[:,1], alpha = 0.1)\n",
    "\n",
    "#X_train, X_test = X[:int(0.8*len(X))], X[int(0.8*len(X)):]\n",
    "#y_train, y_test = y[:int(0.8*len(X))], y[int(0.8*len(X)):]"
   ]
  },
  {
   "cell_type": "code",
   "execution_count": null,
   "id": "a85806b6-fa10-43ec-bcca-8a75f35273f6",
   "metadata": {},
   "outputs": [],
   "source": []
  }
 ],
 "metadata": {
  "kernelspec": {
   "display_name": "Python 3 (ipykernel)",
   "language": "python",
   "name": "python3"
  },
  "language_info": {
   "codemirror_mode": {
    "name": "ipython",
    "version": 3
   },
   "file_extension": ".py",
   "mimetype": "text/x-python",
   "name": "python",
   "nbconvert_exporter": "python",
   "pygments_lexer": "ipython3",
   "version": "3.7.12"
  }
 },
 "nbformat": 4,
 "nbformat_minor": 5
}
