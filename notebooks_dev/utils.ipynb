{
 "cells": [
  {
   "cell_type": "code",
   "execution_count": null,
   "metadata": {},
   "outputs": [],
   "source": [
    "#default_exp utils"
   ]
  },
  {
   "cell_type": "markdown",
   "metadata": {
    "heading_collapsed": true
   },
   "source": [
    "## Import modules that are only used in documentation, nbdev related stuff like testing using assert and more generally inside this notebook (not going to src)."
   ]
  },
  {
   "cell_type": "code",
   "execution_count": null,
   "metadata": {
    "hidden": true
   },
   "outputs": [],
   "source": [
    "#hide\n",
    "from nbdev.showdoc import *\n",
    "\n",
    "%load_ext autoreload\n",
    "%autoreload 2 #autoreload to make code from other modules get updated online inside notebook\n",
    "\n",
    "import sys\n",
    "sys.path.append('..') #appends project root to path in order to import project packages since `noteboks_dev` is not on the root\n",
    "\n",
    "#DO NOT EDIT"
   ]
  },
  {
   "cell_type": "code",
   "execution_count": null,
   "metadata": {
    "hidden": true
   },
   "outputs": [],
   "source": [
    "#hide\n",
    "\n",
    "#Internal Imports\n",
    "#imports that are going to be used only during development and are not intended to be loaded inside the generated modules.\n",
    "#for example: use imported modules to generate graphs for documentation, but lib is unused in actual package\n",
    "\n",
    "#import ..."
   ]
  },
  {
   "cell_type": "markdown",
   "metadata": {},
   "source": [
    "# Code"
   ]
  },
  {
   "cell_type": "code",
   "execution_count": 2,
   "metadata": {},
   "outputs": [],
   "source": [
    "#export\n",
    "import numpy as np\n",
    "from scipy import stats"
   ]
  },
  {
   "cell_type": "code",
   "execution_count": 36,
   "metadata": {},
   "outputs": [],
   "source": [
    "def get_distribution_var_factor_jaccard(jac_dist, min_var_factor = 1e-2, alpha = 1):\n",
    "    '''\n",
    "    gets the variance factor of the \"point distribution\" given a jaccard distance from\n",
    "    the query point\n",
    "    \n",
    "    to get the actual variance, use the variance factor alongside the variance of the\n",
    "    observed variable in the neighbor points.\n",
    "    \n",
    "    example:\n",
    "    \n",
    "    get the 30 nearest neighbors, calculat their variance along some axis,\n",
    "    then calculate the variance factor of each point and then multiply to get the\n",
    "    \"point variance in the contribution\" for each point\n",
    "    \n",
    "    functions to test:\n",
    "    tangent, 1/x, min_var - log(1-x)\n",
    "    '''    \n",
    "    assert min_var_factor > 0\n",
    "    assert alpha > 0\n",
    "    var_factor = min_var_factor - alpha*np.log(1-jac_dist)\n",
    "    return var_factor\n",
    "\n",
    "def pointwise_variance(values, distances, min_var_factor = 1e-2, alpha = 1):\n",
    "    '''\n",
    "    gets the pointwise variance for each neighbor of a given point, considering\n",
    "    the variance of the neighborhood and the variance factor of each point \n",
    "    \n",
    "    each point contributes to the estimation of the queried point, but this contribution\n",
    "    has a variance associated with how much this point is alike the queried point. in this sense\n",
    "    pointwise variance is defined, as the variance of the contribution of each point, given the \n",
    "    variance of all the points and how similar the points in the neighborhood are to the queried point\n",
    "    '''\n",
    "    var = values.var(axis = -1)\n",
    "    var_factor = get_distribution_var_factor_jaccard(distances, min_var_factor)\n",
    "    pointwise_variance = var*var_factor\n",
    "    return pointwise_variance"
   ]
  },
  {
   "cell_type": "code",
   "execution_count": 41,
   "metadata": {},
   "outputs": [
    {
     "data": {
      "text/plain": [
       "[<matplotlib.lines.Line2D at 0x19009d55bc8>]"
      ]
     },
     "execution_count": 41,
     "metadata": {},
     "output_type": "execute_result"
    },
    {
     "data": {
      "image/png": "[encoded data removed]",
      "text/plain": [
       "<Figure size 432x288 with 1 Axes>"
      ]
     },
     "metadata": {
      "needs_background": "light"
     },
     "output_type": "display_data"
    }
   ],
   "source": [
    "import matplotlib.pyplot as plt\n",
    "%matplotlib inline\n",
    "jac_dists = np.linspace(0,0.999, 50)\n",
    "plt.plot(jac_dists, get_distribution_var_factor_jaccard(jac_dists, alpha = 1))"
   ]
  },
  {
   "cell_type": "markdown",
   "metadata": {},
   "source": [
    "# Export -"
   ]
  },
  {
   "cell_type": "code",
   "execution_count": null,
   "metadata": {},
   "outputs": [],
   "source": [
    "#hide\n",
    "from nbdev.export import notebook2script\n",
    "notebook2script()"
   ]
  }
 ],
 "metadata": {
  "kernelspec": {
   "display_name": "Python 3",
   "language": "python",
   "name": "python3"
  },
  "language_info": {
   "codemirror_mode": {
    "name": "ipython",
    "version": 3
   },
   "file_extension": ".py",
   "mimetype": "text/x-python",
   "name": "python",
   "nbconvert_exporter": "python",
   "pygments_lexer": "ipython3",
   "version": "3.7.6"
  },
  "latex_envs": {
   "LaTeX_envs_menu_present": true,
   "autoclose": false,
   "autocomplete": true,
   "bibliofile": "biblio.bib",
   "cite_by": "apalike",
   "current_citInitial": 1,
   "eqLabelWithNumbers": true,
   "eqNumInitial": 1,
   "hotkeys": {
    "equation": "Ctrl-E",
    "itemize": "Ctrl-I"
   },
   "labels_anchors": false,
   "latex_user_defs": false,
   "report_style_numbering": false,
   "user_envs_cfg": false
  },
  "toc": {
   "base_numbering": 1,
   "nav_menu": {},
   "number_sections": true,
   "sideBar": true,
   "skip_h1_title": false,
   "title_cell": "Table of Contents",
   "title_sidebar": "Contents",
   "toc_cell": false,
   "toc_position": {
    "height": "calc(100% - 180px)",
    "left": "10px",
    "top": "150px",
    "width": "250.319px"
   },
   "toc_section_display": true,
   "toc_window_display": true
  }
 },
 "nbformat": 4,
 "nbformat_minor": 4
}
