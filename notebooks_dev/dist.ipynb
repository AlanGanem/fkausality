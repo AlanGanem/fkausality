{
 "cells": [
  {
   "cell_type": "code",
   "execution_count": 1,
   "metadata": {},
   "outputs": [],
   "source": [
    "#default_exp dist"
   ]
  },
  {
   "cell_type": "markdown",
   "metadata": {},
   "source": [
    "## Import modules that are only used in documentation, nbdev related stuff like testing using assert and more generally inside this notebook (not going to src)."
   ]
  },
  {
   "cell_type": "code",
   "execution_count": 2,
   "metadata": {},
   "outputs": [],
   "source": [
    "#hide\n",
    "from nbdev.showdoc import *\n",
    "\n",
    "%load_ext autoreload\n",
    "%autoreload 2 #autoreload to make code from other modules get updated online inside notebook\n",
    "\n",
    "import sys\n",
    "sys.path.append('..') #appends project root to path in order to import project packages since `noteboks_dev` is not on the root\n",
    "\n",
    "#DO NOT EDIT"
   ]
  },
  {
   "cell_type": "code",
   "execution_count": 3,
   "metadata": {},
   "outputs": [],
   "source": [
    "#hide\n",
    "\n",
    "#Internal Imports\n",
    "#imports that are going to be used only during development and are not intended to be loaded inside the generated modules.\n",
    "#for example: use imported modules to generate graphs for documentation, but lib is unused in actual package\n",
    "\n",
    "#import ..."
   ]
  },
  {
   "cell_type": "markdown",
   "metadata": {},
   "source": [
    "# Code"
   ]
  },
  {
   "cell_type": "code",
   "execution_count": 4,
   "metadata": {},
   "outputs": [],
   "source": [
    "#export\n",
    "import numpy as np\n",
    "from scipy import stats"
   ]
  },
  {
   "cell_type": "code",
   "execution_count": 5,
   "metadata": {},
   "outputs": [],
   "source": [
    "#export\n",
    "def get_distribution_var_factor_jaccard(jac_dists, min_var_factor = 1e-2, alpha = 1, func = 'log'):\n",
    "    '''\n",
    "    gets the variance factor of the \"point distribution\" given a jaccard distance from\n",
    "    the query point\n",
    "    \n",
    "    to get the actual variance, use the variance factor alongside the variance of the\n",
    "    observed variable in the neighbor points.\n",
    "    \n",
    "    example:\n",
    "    \n",
    "    get the 30 nearest neighbors, calculat their variance along some axis,\n",
    "    then calculate the variance factor of each point and then multiply to get the\n",
    "    \"point variance in the contribution\" for each point\n",
    "    \n",
    "    functions to test:\n",
    "    tangent(x), 1/x, min_var - log(1-x)\n",
    "    '''    \n",
    "    funcs = ['log', 'inverse_dist']\n",
    "    assert min_var_factor > 0\n",
    "    assert alpha > 0\n",
    "    \n",
    "    #if sim = 1, var_factor = min_var_factor, if sim -> 0, var_factor -> inf\n",
    "    if func == 'log':\n",
    "        var_factor = min_var_factor - alpha*np.log(1-jac_dists)  \n",
    "    elif func == 'inverse_dist':\n",
    "        var_factor = min_var_factor/(1-jac_dists)**alpha\n",
    "    return var_factor\n",
    "\n",
    "def pointwise_variance(values, jac_dists, min_var_factor = 1e-2, alpha = 1, variance_mapper = 'log'):\n",
    "    '''\n",
    "    gets the pointwise variance for each neighbor of a given point, considering\n",
    "    the variance of the neighborhood and the variance factor of each point \n",
    "    \n",
    "    each point contributes to the estimation of the queried point, but this contribution\n",
    "    has a variance associated with how much this point is alike the queried point. in this sense\n",
    "    pointwise variance is defined, as the variance of the contribution of each point, given the \n",
    "    variance of all the points and how similar the points in the neighborhood are to the queried point\n",
    "    \n",
    "    the variance of the contribution os different from the (sampling)weight of the point,\n",
    "    since points with lower similarity will have a higher variance, but will be less likely to be sampled\n",
    "    '''\n",
    "    if len(values.shape) > 1:\n",
    "        if values.shape[-1] > 1:\n",
    "            raise ValueError(f'value should have only one dimension along last axis, got shape {values.shape}')\n",
    "        else:\n",
    "            values = values.flatten()\n",
    "    \n",
    "    #global variance is calculated with the wieghted full neighbors instead of the sampled values, in order to avoid 0 variance\n",
    "    #if a single value is sampled\n",
    "    var = np.cov(values, aweights=(1- jac_dists)**alpha) #global variance weights are proportional to point similarities, not distance\n",
    "    var_factor = get_distribution_var_factor_jaccard(jac_dists, min_var_factor, alpha, func = variance_mapper)\n",
    "    pointwise_variance = var*var_factor\n",
    "    return pointwise_variance"
   ]
  },
  {
   "cell_type": "code",
   "execution_count": 6,
   "metadata": {},
   "outputs": [
    {
     "data": {
      "text/plain": [
       "Text(0, 0.5, 'var_factor')"
      ]
     },
     "execution_count": 6,
     "metadata": {},
     "output_type": "execute_result"
    },
    {
     "data": {
      "image/png": "[encoded data removed]",
      "text/plain": [
       "<Figure size 432x288 with 1 Axes>"
      ]
     },
     "metadata": {
      "needs_background": "light"
     },
     "output_type": "display_data"
    }
   ],
   "source": [
    "import matplotlib.pyplot as plt\n",
    "%matplotlib inline\n",
    "\n",
    "jac_dists = np.linspace(0,0.999, 100)\n",
    "plt.plot(jac_dists, get_distribution_var_factor_jaccard(jac_dists, alpha = 1))\n",
    "plt.xlabel('jaccard dissimilarity/distance')\n",
    "plt.ylabel('var_factor')"
   ]
  },
  {
   "cell_type": "code",
   "execution_count": 7,
   "metadata": {},
   "outputs": [],
   "source": [
    "#export\n",
    "\n",
    "def sample_from_neighbors_continuous(\n",
    "    neighborhood_values,\n",
    "    jac_dists,    \n",
    "    size = 100,\n",
    "    noise_type = 'normal',\n",
    "    alpha = 1,\n",
    "    variance_mapper = 'log',\n",
    "    min_var_factor = 1e-2,\n",
    "    var_preprocess = np.sqrt\n",
    "):\n",
    "    '''\n",
    "    samples from neighbor points with noise\n",
    "    \n",
    "    returns (samples, idxs)\n",
    "    '''\n",
    "    if len(neighborhood_values.shape) <= 1:\n",
    "        neighborhood_values = neighborhood_values.reshape(-1,1)\n",
    "        \n",
    "    pw_var = pointwise_variance(neighborhood_values, jac_dists = jac_dists, min_var_factor = min_var_factor, alpha = alpha)    \n",
    "    #apply alppha and l1-normalize sample weights\n",
    "    sample_weights = (1- jac_dists)**alpha #transform distance into similarity with 1 - jac_d\n",
    "    sample_weights = sample_weights/sample_weights.sum()\n",
    "    #sample based on sample weights\n",
    "    sampled_idxs = np.random.choice(np.arange(neighborhood_values.shape[0]),size = size, p = sample_weights, replace = True)        \n",
    "    sampled_idxs = sorted(sampled_idxs)\n",
    "    unique, counts = np.unique(sampled_idxs, return_counts=True)\n",
    "    \n",
    "    noise_type = getattr(np.random, noise_type)\n",
    "    \n",
    "    samples = []\n",
    "    for i in range(unique.shape[0]):\n",
    "        var = pw_var[unique[i]]        \n",
    "        \n",
    "        noise = noise_type(0, var_preprocess(var), size = (counts[i],neighborhood_values.shape[-1]))         \n",
    "        sampled_values = neighborhood_values[unique[i]] + noise\n",
    "        sample_idx = sampled_idxs[unique[i]]\n",
    "        #samples = np.vstack([samples, sampled_values])\n",
    "        samples.append(sampled_values)\n",
    "    \n",
    "    samples = np.vstack(samples)\n",
    "    \n",
    "    return samples, sampled_idxs\n",
    "        "
   ]
  },
  {
   "cell_type": "code",
   "execution_count": 8,
   "metadata": {},
   "outputs": [],
   "source": [
    "import seaborn as sns\n",
    "n_neigbors = 20\n",
    "X = 3*np.random.random(n_neigbors).reshape(-1,1) + 3*np.random.randn(n_neigbors,1)\n",
    "jac_dists = np.random.random(n_neigbors)"
   ]
  },
  {
   "cell_type": "code",
   "execution_count": 11,
   "metadata": {},
   "outputs": [
    {
     "name": "stderr",
     "output_type": "stream",
     "text": [
      "C:\\Anaconda3\\lib\\site-packages\\seaborn\\distributions.py:2619: FutureWarning: `distplot` is a deprecated function and will be removed in a future version. Please adapt your code to use either `displot` (a figure-level function with similar flexibility) or `histplot` (an axes-level function for histograms).\n",
      "  warnings.warn(msg, FutureWarning)\n"
     ]
    },
    {
     "data": {
      "text/plain": [
       "<AxesSubplot:ylabel='Density'>"
      ]
     },
     "execution_count": 11,
     "metadata": {},
     "output_type": "execute_result"
    },
    {
     "data": {
      "image/png": "[encoded data removed]",
      "text/plain": [
       "<Figure size 432x288 with 1 Axes>"
      ]
     },
     "metadata": {
      "needs_background": "light"
     },
     "output_type": "display_data"
    }
   ],
   "source": [
    "samples = sample_from_neighbors_continuous(X, jac_dists,noise_type = 'normal', size = 1000)\n",
    "sns.distplot(samples[0].flatten())"
   ]
  },
  {
   "cell_type": "code",
   "execution_count": 12,
   "metadata": {},
   "outputs": [],
   "source": [
    "n_neigbors = 100\n",
    "X = 3*np.random.random(n_neigbors).reshape(-1,1)\n",
    "jac_dists = np.random.random(n_neigbors)\n",
    "\n",
    "#%timeit sample_from_neighbors(X, jac_dists, size = 100, noise_type = 'normal')"
   ]
  },
  {
   "cell_type": "code",
   "execution_count": 14,
   "metadata": {},
   "outputs": [
    {
     "name": "stderr",
     "output_type": "stream",
     "text": [
      "C:\\Anaconda3\\lib\\site-packages\\seaborn\\distributions.py:2619: FutureWarning: `distplot` is a deprecated function and will be removed in a future version. Please adapt your code to use either `displot` (a figure-level function with similar flexibility) or `histplot` (an axes-level function for histograms).\n",
      "  warnings.warn(msg, FutureWarning)\n",
      "C:\\Anaconda3\\lib\\site-packages\\seaborn\\distributions.py:2619: FutureWarning: `distplot` is a deprecated function and will be removed in a future version. Please adapt your code to use either `displot` (a figure-level function with similar flexibility) or `histplot` (an axes-level function for histograms).\n",
      "  warnings.warn(msg, FutureWarning)\n",
      "C:\\Anaconda3\\lib\\site-packages\\seaborn\\distributions.py:2619: FutureWarning: `distplot` is a deprecated function and will be removed in a future version. Please adapt your code to use either `displot` (a figure-level function with similar flexibility) or `histplot` (an axes-level function for histograms).\n",
      "  warnings.warn(msg, FutureWarning)\n"
     ]
    },
    {
     "data": {
      "text/plain": [
       "<AxesSubplot:ylabel='Density'>"
      ]
     },
     "execution_count": 14,
     "metadata": {},
     "output_type": "execute_result"
    },
    {
     "data": {
      "image/png": "[encoded data removed]",
      "text/plain": [
       "<Figure size 432x288 with 1 Axes>"
      ]
     },
     "metadata": {
      "needs_background": "light"
     },
     "output_type": "display_data"
    }
   ],
   "source": [
    "n_neigbors = 100\n",
    "X = 3*np.random.random(n_neigbors).reshape(-1,1)\n",
    "jac_dists = np.random.random(n_neigbors)\n",
    "\n",
    "\n",
    "v1, id1 = sample_from_neighbors_continuous(X, jac_dists, size = 1000, noise_type = 'normal', alpha = 10)\n",
    "v2, id2 = sample_from_neighbors_continuous(X, jac_dists, size = 1000, noise_type = 'normal', alpha = 1)\n",
    "v3, id3 = sample_from_neighbors_continuous(X, jac_dists, size = 1000, noise_type = 'normal', alpha = 0.01)\n",
    "\n",
    "sns.distplot(v1.flatten())\n",
    "sns.distplot(v2.flatten())\n",
    "sns.distplot(v3.flatten())"
   ]
  },
  {
   "cell_type": "code",
   "execution_count": 15,
   "metadata": {},
   "outputs": [
    {
     "name": "stderr",
     "output_type": "stream",
     "text": [
      "C:\\Anaconda3\\lib\\site-packages\\seaborn\\distributions.py:2619: FutureWarning: `distplot` is a deprecated function and will be removed in a future version. Please adapt your code to use either `displot` (a figure-level function with similar flexibility) or `histplot` (an axes-level function for histograms).\n",
      "  warnings.warn(msg, FutureWarning)\n",
      "C:\\Anaconda3\\lib\\site-packages\\seaborn\\distributions.py:2619: FutureWarning: `distplot` is a deprecated function and will be removed in a future version. Please adapt your code to use either `displot` (a figure-level function with similar flexibility) or `histplot` (an axes-level function for histograms).\n",
      "  warnings.warn(msg, FutureWarning)\n",
      "C:\\Anaconda3\\lib\\site-packages\\seaborn\\distributions.py:2619: FutureWarning: `distplot` is a deprecated function and will be removed in a future version. Please adapt your code to use either `displot` (a figure-level function with similar flexibility) or `histplot` (an axes-level function for histograms).\n",
      "  warnings.warn(msg, FutureWarning)\n"
     ]
    },
    {
     "data": {
      "text/plain": [
       "<AxesSubplot:ylabel='Density'>"
      ]
     },
     "execution_count": 15,
     "metadata": {},
     "output_type": "execute_result"
    },
    {
     "data": {
      "image/png": "[encoded data removed]",
      "text/plain": [
       "<Figure size 432x288 with 1 Axes>"
      ]
     },
     "metadata": {
      "needs_background": "light"
     },
     "output_type": "display_data"
    }
   ],
   "source": [
    "sns.distplot(jac_dists[id1])\n",
    "sns.distplot(jac_dists[id2])\n",
    "sns.distplot(jac_dists[id3])"
   ]
  },
  {
   "cell_type": "markdown",
   "metadata": {},
   "source": [
    "# Export -"
   ]
  },
  {
   "cell_type": "code",
   "execution_count": 16,
   "metadata": {},
   "outputs": [
    {
     "name": "stdout",
     "output_type": "stream",
     "text": [
      "Converted dist-checkpoint.ipynb.\n",
      "Converted estimators-checkpoint.ipynb.\n",
      "Converted kernel-checkpoint.ipynb.\n",
      "Converted neighbors-checkpoint.ipynb.\n",
      "Converted dist.ipynb.\n",
      "Converted estimators.ipynb.\n",
      "Converted index.ipynb.\n",
      "Converted kernel.ipynb.\n",
      "Converted neighbors.ipynb.\n",
      "Converted utils.ipynb.\n"
     ]
    }
   ],
   "source": [
    "#hide\n",
    "from nbdev.export import notebook2script\n",
    "notebook2script()"
   ]
  },
  {
   "cell_type": "code",
   "execution_count": null,
   "metadata": {},
   "outputs": [],
   "source": []
  }
 ],
 "metadata": {
  "kernelspec": {
   "display_name": "Python 3",
   "language": "python",
   "name": "python3"
  },
  "language_info": {
   "codemirror_mode": {
    "name": "ipython",
    "version": 3
   },
   "file_extension": ".py",
   "mimetype": "text/x-python",
   "name": "python",
   "nbconvert_exporter": "python",
   "pygments_lexer": "ipython3",
   "version": "3.7.6"
  },
  "latex_envs": {
   "LaTeX_envs_menu_present": true,
   "autoclose": false,
   "autocomplete": true,
   "bibliofile": "biblio.bib",
   "cite_by": "apalike",
   "current_citInitial": 1,
   "eqLabelWithNumbers": true,
   "eqNumInitial": 1,
   "hotkeys": {
    "equation": "Ctrl-E",
    "itemize": "Ctrl-I"
   },
   "labels_anchors": false,
   "latex_user_defs": false,
   "report_style_numbering": false,
   "user_envs_cfg": false
  },
  "toc": {
   "base_numbering": 1,
   "nav_menu": {},
   "number_sections": true,
   "sideBar": true,
   "skip_h1_title": false,
   "title_cell": "Table of Contents",
   "title_sidebar": "Contents",
   "toc_cell": false,
   "toc_position": {
    "height": "calc(100% - 180px)",
    "left": "10px",
    "top": "150px",
    "width": "250.319px"
   },
   "toc_section_display": true,
   "toc_window_display": false
  }
 },
 "nbformat": 4,
 "nbformat_minor": 4
}
