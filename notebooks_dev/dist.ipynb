{
 "cells": [
  {
   "cell_type": "code",
   "execution_count": 1,
   "metadata": {},
   "outputs": [],
   "source": [
    "#default_exp dist"
   ]
  },
  {
   "cell_type": "markdown",
   "metadata": {
    "jp-MarkdownHeadingCollapsed": true,
    "tags": []
   },
   "source": [
    "## Import modules that are only used in documentation, nbdev related stuff like testing using assert and more generally inside this notebook (not going to src)."
   ]
  },
  {
   "cell_type": "code",
   "execution_count": 2,
   "metadata": {},
   "outputs": [],
   "source": [
    "#hide\n",
    "from nbdev.showdoc import *\n",
    "\n",
    "%load_ext autoreload\n",
    "%autoreload 2 #autoreload to make code from other modules get updated online inside notebook\n",
    "\n",
    "import sys\n",
    "sys.path.append('..') #appends project root to path in order to import project packages since `noteboks_dev` is not on the root\n",
    "\n",
    "#DO NOT EDIT"
   ]
  },
  {
   "cell_type": "code",
   "execution_count": 3,
   "metadata": {},
   "outputs": [],
   "source": [
    "#hide\n",
    "\n",
    "#Internal Imports\n",
    "#imports that are going to be used only during development and are not intended to be loaded inside the generated modules.\n",
    "#for example: use imported modules to generate graphs for documentation, but lib is unused in actual package\n",
    "\n",
    "#import ..."
   ]
  },
  {
   "cell_type": "markdown",
   "metadata": {},
   "source": [
    "# Code"
   ]
  },
  {
   "cell_type": "code",
   "execution_count": 4,
   "metadata": {},
   "outputs": [],
   "source": [
    "#export\n",
    "import numpy as np\n",
    "from scipy import stats\n",
    "\n",
    "from sklearn.base import DensityMixin, BaseEstimator\n",
    "from functools import partial\n",
    "from sklearn.utils import check_array\n",
    "\n"
   ]
  },
  {
   "cell_type": "code",
   "execution_count": 5,
   "metadata": {},
   "outputs": [],
   "source": [
    "#export\n",
    "def get_distribution_var_factor_jaccard(jac_dists, min_var_factor = 1e-2, alpha = 1, func = 'log'):\n",
    "    '''\n",
    "    gets the variance factor of the \"point distribution\" given a jaccard distance from\n",
    "    the query point\n",
    "    \n",
    "    to get the actual variance, use the variance factor alongside the variance of the\n",
    "    observed variable in the neighbor points.\n",
    "    \n",
    "    example:\n",
    "    \n",
    "    get the 30 nearest neighbors, calculat their variance along some axis,\n",
    "    then calculate the variance factor of each point and then multiply to get the\n",
    "    \"point variance in the contribution\" for each point\n",
    "    \n",
    "    functions to test:\n",
    "    tangent(x), 1/x, min_var - log(1-x)\n",
    "    '''    \n",
    "    funcs = ['log', 'inverse_dist', 'constant']\n",
    "    assert min_var_factor > 0\n",
    "    assert alpha > 0\n",
    "    \n",
    "    #if sim = 1, var_factor = min_var_factor, if sim -> 0, var_factor -> inf\n",
    "    if func == 'log':\n",
    "        var_factor = min_var_factor - alpha*np.log(1-jac_dists)  \n",
    "    elif func == 'inverse_dist':\n",
    "        var_factor = min_var_factor/(1-jac_dists)**alpha\n",
    "    elif func == 'constant':\n",
    "        var_factor = np.ones(jac_dist.shape)\n",
    "    return var_factor\n",
    "\n",
    "def pointwise_variance(values, jac_dists, min_var_factor = 1e-2, alpha = 1, variance_mapper = 'log'):\n",
    "    '''\n",
    "    gets the pointwise variance for each neighbor of a given point, considering\n",
    "    the variance of the neighborhood and the variance factor of each point \n",
    "    \n",
    "    each point contributes to the estimation of the queried point, but this contribution\n",
    "    has a variance associated with how much this point is alike the queried point. in this sense\n",
    "    pointwise variance is defined, as the variance of the contribution of each point, given the \n",
    "    variance of all the points and how similar the points in the neighborhood are to the queried point\n",
    "    \n",
    "    the variance of the contribution os different from the (sampling)weight of the point,\n",
    "    since points with lower similarity will have a higher variance, but will be less likely to be sampled\n",
    "    '''    \n",
    "    \n",
    "    #global variance is calculated with the wieghted full neighbors instead of the sampled values, in order to avoid 0 variance\n",
    "    #if a single value is sampled\n",
    "            \n",
    "    #expand values if contains only one row, so np.cov won't break\n",
    "    if values.shape[0] < 2:\n",
    "        values = np.concatenate([values,values])\n",
    "        jac_dists = np.concatenate([jac_dists,jac_dists])\n",
    "        \n",
    "    var_factor = get_distribution_var_factor_jaccard(jac_dists, min_var_factor, alpha, func = variance_mapper)            \n",
    "    var = np.cov(values, rowvar = False, aweights=(1- jac_dists.flatten())**alpha) #global variance weights are proportional to point similarities, not distance        \n",
    "    if var.ndim > 1:        \n",
    "        broadcasted_var_factor = jac_dists.reshape(jac_dists.shape[0],1)[:, np.newaxis]\n",
    "        pointwise_variance = broadcasted_var_factor*var\n",
    "    else:\n",
    "        pointwise_variance = var_factor*var\n",
    "    \n",
    "    return pointwise_variance"
   ]
  },
  {
   "cell_type": "code",
   "execution_count": 6,
   "metadata": {},
   "outputs": [
    {
     "data": {
      "text/plain": [
       "Text(0, 0.5, 'var_factor')"
      ]
     },
     "execution_count": 6,
     "metadata": {},
     "output_type": "execute_result"
    },
    {
     "data": {
      "image/png": "[encoded data removed]",
      "text/plain": [
       "<Figure size 432x288 with 1 Axes>"
      ]
     },
     "metadata": {
      "needs_background": "light"
     },
     "output_type": "display_data"
    }
   ],
   "source": [
    "import matplotlib.pyplot as plt\n",
    "%matplotlib inline\n",
    "\n",
    "jac_dists = np.linspace(0,0.99999, 100)\n",
    "plt.plot(jac_dists, get_distribution_var_factor_jaccard(jac_dists, alpha = 1))\n",
    "plt.plot(jac_dists, get_distribution_var_factor_jaccard(jac_dists, alpha = 2))\n",
    "plt.plot(jac_dists, get_distribution_var_factor_jaccard(jac_dists, alpha = 5))\n",
    "\n",
    "plt.xlabel('jaccard dissimilarity/distance')\n",
    "plt.ylabel('var_factor')"
   ]
  },
  {
   "cell_type": "code",
   "execution_count": 7,
   "metadata": {},
   "outputs": [],
   "source": [
    "#export\n",
    "def estimate_mean_and_variance_from_neighbors_mixture(\n",
    "    neighborhood_values,\n",
    "    jac_dists,        \n",
    "    alpha = 1,\n",
    "    variance_mapper = 'log',\n",
    "    min_var_factor = 1e-2,    \n",
    "):\n",
    "    '''\n",
    "    refs \n",
    "    https://stats.stackexchange.com/questions/16608/what-is-the-variance-of-the-weighted-mixture-of-two-gaussians\n",
    "    https://math.stackexchange.com/questions/195911/calculation-of-the-covariance-of-gaussian-mixtures\n",
    "    \n",
    "    at the end of the day, impelmented covaraince scaling according to scaling in the diagonal of covariance matrix\n",
    "    for multidimensional case\n",
    "    '''    \n",
    "    \n",
    "    weights = ((1-jac_dists)**alpha)\n",
    "    weights = weights/weights.sum(axis = 0) #normalize\n",
    "    \n",
    "    neighborhood_values = check_array(neighborhood_values)\n",
    "    \n",
    "    if neighborhood_values.shape[-1] == 1:\n",
    "        neighborhood_values = neighborhood_values.flatten()\n",
    "    \n",
    "    mean = np.average(neighborhood_values, weights = weights, axis = 0)    \n",
    "    \n",
    "    pw_var = pointwise_variance(\n",
    "        values = neighborhood_values,\n",
    "        jac_dists = jac_dists,\n",
    "        min_var_factor = min_var_factor,\n",
    "        alpha = alpha,\n",
    "        variance_mapper = variance_mapper\n",
    "    )\n",
    "    \n",
    "    \n",
    "    #handle broadcasting\n",
    "    extra_dims_n = pw_var.ndim - neighborhood_values.ndim\n",
    "    extra_dims_w = pw_var.ndim - weights.ndim\n",
    "    \n",
    "    if extra_dims_n > 0:\n",
    "        neighborhood_values = neighborhood_values.reshape(*neighborhood_values.shape, *extra_dims_n*[1])        \n",
    "    if extra_dims_w > 0:\n",
    "        weights = weights.reshape(*weights.shape, *extra_dims_w*[1])\n",
    "    \n",
    "    \n",
    "    \n",
    "    #var = np.sum(weights*pw_var, axis = 0)\n",
    "    wvar = np.sum(weights*pw_var, axis = 0)\n",
    "    var = (\n",
    "        wvar+\n",
    "        np.sum(weights*(neighborhood_values**2), axis = 0) -                 \n",
    "        mean**2\n",
    "    )\n",
    "    \n",
    "    if var.ndim > 1:\n",
    "        \n",
    "        cov = np.sum(weights*pw_var, axis = 0)\n",
    "        factor = var.diagonal()/cov.diagonal() #scale caovariances by variance scaling factor\n",
    "        cov = cov*factor\n",
    "        np.fill_diagonal(cov, var.diagonal())\n",
    "        var = cov\n",
    "\n",
    "    return mean, var\n",
    "\n",
    "\n",
    "def sample_from_neighbors_continuous(\n",
    "    neighborhood_values,\n",
    "    jac_dists,    \n",
    "    size = 100,\n",
    "    noise_type = 'normal',\n",
    "    alpha = 1,\n",
    "    scale_variance_pointwise = True,\n",
    "    variance_mapper = 'log',\n",
    "    min_var_factor = 1e-2,    \n",
    "):\n",
    "    '''\n",
    "    samples from neighbor points with noise\n",
    "    \n",
    "    returns (samples, idxs)\n",
    "    '''\n",
    "    #reshape values    \n",
    "    if neighborhood_values.ndim <= 1:\n",
    "        neighborhood_values = neighborhood_values.reshape(-1,1)\n",
    "    \n",
    "    #handle noise_type\n",
    "    valid_noise_types = ['normal', 'multivariate_normal', None]\n",
    "    if not noise_type in valid_noise_types:\n",
    "        raise ValueError(f'noise_type should be one of {valid_noise_types}, got {noise_type}')\n",
    "    else:\n",
    "        if noise_type == 'normal':\n",
    "            var_preprocess = np.sqrt\n",
    "            if not neighborhood_values.shape[-1] == 1:\n",
    "                raise ValueError(f'for \"normal\" noise_type, data should be 1d, got shape {neighborhood_values.shape}')\n",
    "        elif noise_type == 'multivariate_normal':\n",
    "            var_preprocess = lambda x: x\n",
    "            if not neighborhood_values.shape[-1] > 1:\n",
    "                raise ValueError(f'for \"multivariate_normal\" noise_type, data should be N-dimensional for N >1, got shape {neighborhood_values.shape}')\n",
    "    \n",
    "    \n",
    "    #apply alppha and l1-normalize sample weights\n",
    "    sample_weights = (1- jac_dists)**alpha #transform distance into similarity with 1 - jac_d\n",
    "    sample_weights = sample_weights/sample_weights.sum()\n",
    "    #sample based on sample weights\n",
    "    sampled_idxs = np.random.choice(np.arange(neighborhood_values.shape[0]),size = size, p = sample_weights, replace = True)        \n",
    "    #sampled_idxs = np.sort(sampled_idxs)\n",
    "                \n",
    "    if (not noise_type is None) and (len(neighborhood_values) > 1):\n",
    "        #adds noise accordingly\n",
    "        pw_var = pointwise_variance(neighborhood_values, jac_dists = jac_dists, min_var_factor = min_var_factor, alpha = alpha)        \n",
    "        counts = np.bincount(sampled_idxs)\n",
    "        msk = counts > 0\n",
    "        unique, counts = np.arange(len(counts))[msk], counts[msk]\n",
    "        noise_type = getattr(np.random, noise_type)    \n",
    "        if pw_var.ndim > 1:        \n",
    "            ndims = pw_var.shape[-1]\n",
    "            mean = np.array([0]*ndims)\n",
    "        else:\n",
    "            mean = 0\n",
    "\n",
    "        samples = []        \n",
    "        for i in range(unique.shape[0]):\n",
    "            idx = unique[i]\n",
    "            var = pw_var[idx]                               \n",
    "            var = var_preprocess(var)\n",
    "            noise = noise_type(mean, var, size = counts[i])\n",
    "            sampled_values = neighborhood_values[idx] + noise        \n",
    "            #samples = np.vstack([samples, sampled_values])\n",
    "            samples.append(sampled_values)\n",
    "        \n",
    "\n",
    "        if sampled_values.ndim > 1:\n",
    "            samples = np.vstack(samples)\n",
    "        else:\n",
    "            samples = np.vstack([s.reshape(-1,1) for s in samples])\n",
    "    else:\n",
    "        #sample without adding noise\n",
    "        samples = neighborhood_values[sampled_idxs]\n",
    "    \n",
    "    return samples, sampled_idxs\n"
   ]
  },
  {
   "cell_type": "code",
   "execution_count": 8,
   "metadata": {},
   "outputs": [],
   "source": [
    "#export\n",
    "class PointwiseMixture(DensityMixin, BaseEstimator):\n",
    "    \n",
    "    def __init__(self, distribution = 'normal'):\n",
    "        self.distribution = distribution\n",
    "        return\n",
    "        \n",
    "    def sample(self, size = 1):\n",
    "        '''\n",
    "        draw samples from mixture\n",
    "        '''\n",
    "        idxs = np.random.choice(np.arange(len(self.dists_)), size = size, replace = True, p = self.weights_)\n",
    "        counts = np.bincount(idxs)\n",
    "        msk = counts > 0\n",
    "        unique, counts = np.arange(len(counts))[msk], counts[msk]\n",
    "        \n",
    "        samples = []\n",
    "        for i in range(len(unique)):\n",
    "            idx = unique[i]\n",
    "            n_samples = counts[i]\n",
    "            sampled_values = self.dists_[idx](size = n_samples)\n",
    "            samples.append(sampled_values)\n",
    "        \n",
    "        if sampled_values.ndim > 1:\n",
    "            samples = np.vstack(samples)\n",
    "        else:\n",
    "            samples = np.vstack([s.reshape(-1,1) for s in samples])\n",
    "            \n",
    "        return samples\n",
    "    \n",
    "    def fit(self, loc, std, weights = None):\n",
    "        '''\n",
    "        fits a mixture estimating pointwise varainces from proposed method\n",
    "        '''\n",
    "        \n",
    "        if weights is None:\n",
    "            weights = np.ones((len(loc),))\n",
    "                    \n",
    "        if not loc.ndim == 1:\n",
    "            raise ValueError(f'loc should be 1d, got shape {loc.shape}')\n",
    "        if not weights.ndim == 1:\n",
    "            raise ValueError(f'weights should be 1d, got shape {weights.shape}')\n",
    "        if not std.ndim == 1:\n",
    "            raise ValueError(f'std should be 1d, got shape {std.shape}')\n",
    "            \n",
    "        ndim = 1                        \n",
    "        weights_ = weights/weights.sum()\n",
    "                \n",
    "        self.dists_ = [partial(np.random.normal, loc = loc[i], scale = std[i]) for i in range(len(loc))]\n",
    "                    \n",
    "        self.weights_ = weights_\n",
    "        self.n_dim_ = ndim\n",
    "        #self.means_ = X\n",
    "        #self.covariances_ = pw_variances\n",
    "        return self\n",
    "    \n",
    "\n",
    "class JaccardPointwiseGaussianMixture(DensityMixin, BaseEstimator):\n",
    "    \n",
    "    def __init__(\n",
    "        self,\n",
    "        pointwse_distribution = 'normal',\n",
    "        alpha = 1,\n",
    "        scale_variance_pointwise = True,\n",
    "        variance_mapper = 'log',\n",
    "        min_var_factor = 1e-2,  \n",
    "    ):\n",
    "        \n",
    "        self.pointwse_distribution = pontiwse_distribution\n",
    "        self.alpha = alpha\n",
    "        self.scale_variance_pointwise = scale_variance_pointwise\n",
    "        self.variance_mapper = variance_mapper\n",
    "        self.min_var_factor = min_var_factor\n",
    "        return            \n",
    "            \n",
    "    def fit(self, X, jac_dists = None, **kwargs):\n",
    "        '''\n",
    "        fits a mixture estimating pointwise varainces from proposed method\n",
    "        '''\n",
    "        \n",
    "        X = check_array(\n",
    "            X,\n",
    "            force_all_finite = True,\n",
    "            ensure_2d = True\n",
    "        )\n",
    "        \n",
    "        if X.shape[-1] == 1:\n",
    "            X = X.flatten()\n",
    "            ndim = 1\n",
    "        else:\n",
    "            ndim = X.shape[-1]\n",
    "                                \n",
    "        #estimate global mean and cov\n",
    "        pw_variances = pointwise_variance(\n",
    "            values = X,\n",
    "            jac_dists = jac_dists,\n",
    "            min_var_factor = self.min_var_factor,\n",
    "            alpha = self.alpha,\n",
    "            variance_mapper = self.variance_mapper\n",
    "        )\n",
    "                        \n",
    "        weights_ = (1 - jac_dists)**self.alpha\n",
    "        weights_ = weights_/weights_.sum()\n",
    "        \n",
    "        if ndim == 1:\n",
    "            pointwise_std = np.sqrt(pw_variances)\n",
    "            self.dists_ = [partial(np.random.normal, loc = X[i], scale = pointwise_std[i]) for i in range(len(X))]\n",
    "        else:\n",
    "            self.dists_ = [partial(np.random.multivariate_normal, mean = X[i], cov = pw_variances[i]) for i in range(len(X))]\n",
    "            \n",
    "        self.weights_ = weights_\n",
    "        self.n_dim_ = ndim\n",
    "        #self.means_ = X\n",
    "        #self.covariances_ = pw_variances\n",
    "        return self\n",
    "    \n",
    "    def sample(self, size = 1):\n",
    "        '''\n",
    "        draw samples from mixture\n",
    "        '''\n",
    "        idxs = np.random.choice(np.arange(len(self.dists_)), size = size, replace = True, p = self.weights_)\n",
    "        counts = np.bincount(idxs)\n",
    "        msk = counts > 0\n",
    "        unique, counts = np.arange(len(counts))[msk], counts[msk]\n",
    "        \n",
    "        samples = []\n",
    "        for i in range(len(unique)):\n",
    "            idx = unique[i]\n",
    "            n_samples = counts[i]\n",
    "            sampled_values = self.dists_[idx](size = n_samples)\n",
    "            samples.append(sampled_values)\n",
    "        \n",
    "        if sampled_values.ndim > 1:\n",
    "            samples = np.vstack(samples)\n",
    "        else:\n",
    "            samples = np.vstack([s.reshape(-1,1) for s in samples])\n",
    "            \n",
    "        return samples"
   ]
  },
  {
   "cell_type": "code",
   "execution_count": 9,
   "metadata": {},
   "outputs": [],
   "source": [
    "import seaborn as sns\n",
    "n_neigbors = 200\n",
    "jac_dists = np.random.random(n_neigbors)\n",
    "\n",
    "X1 = 10*np.random.randn(n_neigbors,1)\n",
    "X1[X1.flatten() > 0] = 10-X1[X1.flatten() > 0]\n",
    "X2 = -X1+5*np.random.randn(n_neigbors,1)\n",
    "X2[X1.flatten() > 0] = -2*X1[X1.flatten() > 0]\n",
    "X2[X1.flatten() <= 0] = +2*X1[X1.flatten() <= 0]\n",
    "X2 = X2 + 5*jac_dists.reshape(-1,1)*np.random.randn(n_neigbors,1)\n",
    "X = np.hstack([X1,X2])\n",
    "#X = np.random.randn(n_neigbors,2)"
   ]
  },
  {
   "cell_type": "code",
   "execution_count": 10,
   "metadata": {},
   "outputs": [
    {
     "name": "stderr",
     "output_type": "stream",
     "text": [
      "c:\\users\\user ambev\\desktop\\mypackages\\fkausality\\fkausality_venv\\lib\\site-packages\\seaborn\\distributions.py:2619: FutureWarning: `distplot` is a deprecated function and will be removed in a future version. Please adapt your code to use either `displot` (a figure-level function with similar flexibility) or `histplot` (an axes-level function for histograms).\n",
      "  warnings.warn(msg, FutureWarning)\n",
      "c:\\users\\user ambev\\desktop\\mypackages\\fkausality\\fkausality_venv\\lib\\site-packages\\seaborn\\distributions.py:2619: FutureWarning: `distplot` is a deprecated function and will be removed in a future version. Please adapt your code to use either `displot` (a figure-level function with similar flexibility) or `histplot` (an axes-level function for histograms).\n",
      "  warnings.warn(msg, FutureWarning)\n"
     ]
    },
    {
     "data": {
      "text/plain": [
       "<matplotlib.legend.Legend at 0x273e26e9088>"
      ]
     },
     "execution_count": 10,
     "metadata": {},
     "output_type": "execute_result"
    },
    {
     "data": {
      "image/png": "[encoded data removed]",
      "text/plain": [
       "<Figure size 432x288 with 1 Axes>"
      ]
     },
     "metadata": {
      "needs_background": "light"
     },
     "output_type": "display_data"
    }
   ],
   "source": [
    "alpha = 1\n",
    "samples = sample_from_neighbors_continuous(X[:,0:1], jac_dists,noise_type = 'normal', size = 10000, alpha = alpha)\n",
    "mean,cov = estimate_mean_and_variance_from_neighbors_mixture(X[:,0:1], jac_dists, alpha = alpha)\n",
    "sns.distplot(samples[0].flatten(), label = 'sampled from sampling method')\n",
    "sns.distplot(np.random.normal(mean, np.sqrt(cov), 10000), label = 'sampled from normal with same mean and var')\n",
    "plt.legend()"
   ]
  },
  {
   "cell_type": "code",
   "execution_count": 11,
   "metadata": {},
   "outputs": [
    {
     "ename": "NameError",
     "evalue": "name 'pontiwse_distribution' is not defined",
     "output_type": "error",
     "traceback": [
      "\u001b[1;31m---------------------------------------------------------------------------\u001b[0m",
      "\u001b[1;31mNameError\u001b[0m                                 Traceback (most recent call last)",
      "\u001b[1;32mC:\\Users\\USERAM~1\\AppData\\Local\\Temp/ipykernel_21312/753497745.py\u001b[0m in \u001b[0;36m<module>\u001b[1;34m\u001b[0m\n\u001b[0;32m      1\u001b[0m \u001b[1;31m#samples = sample_from_neighbors_continuous(X, jac_dists,noise_type = 'multivariate_normal', size = 1000)\u001b[0m\u001b[1;33m\u001b[0m\u001b[1;33m\u001b[0m\u001b[1;33m\u001b[0m\u001b[0m\n\u001b[0;32m      2\u001b[0m \u001b[0malpha\u001b[0m \u001b[1;33m=\u001b[0m \u001b[1;36m2\u001b[0m\u001b[1;33m\u001b[0m\u001b[1;33m\u001b[0m\u001b[0m\n\u001b[1;32m----> 3\u001b[1;33m \u001b[0mplt\u001b[0m\u001b[1;33m.\u001b[0m\u001b[0mscatter\u001b[0m\u001b[1;33m(\u001b[0m\u001b[1;33m*\u001b[0m\u001b[0mJaccardPointwiseGaussianMixture\u001b[0m\u001b[1;33m(\u001b[0m\u001b[0malpha\u001b[0m \u001b[1;33m=\u001b[0m \u001b[0malpha\u001b[0m\u001b[1;33m)\u001b[0m\u001b[1;33m.\u001b[0m\u001b[0mfit\u001b[0m\u001b[1;33m(\u001b[0m\u001b[0mX\u001b[0m\u001b[1;33m,\u001b[0m \u001b[0mjac_dists\u001b[0m\u001b[1;33m)\u001b[0m\u001b[1;33m.\u001b[0m\u001b[0msample\u001b[0m\u001b[1;33m(\u001b[0m\u001b[1;36m1000\u001b[0m\u001b[1;33m)\u001b[0m\u001b[1;33m.\u001b[0m\u001b[0mT\u001b[0m\u001b[1;33m,\u001b[0m \u001b[0malpha\u001b[0m \u001b[1;33m=\u001b[0m \u001b[1;36m0.1\u001b[0m\u001b[1;33m,\u001b[0m \u001b[0mcolor\u001b[0m \u001b[1;33m=\u001b[0m \u001b[1;34m'b'\u001b[0m\u001b[1;33m,\u001b[0m \u001b[0mlabel\u001b[0m \u001b[1;33m=\u001b[0m \u001b[1;34m'mixture sample'\u001b[0m\u001b[1;33m)\u001b[0m\u001b[1;33m\u001b[0m\u001b[1;33m\u001b[0m\u001b[0m\n\u001b[0m\u001b[0;32m      4\u001b[0m \u001b[0mplt\u001b[0m\u001b[1;33m.\u001b[0m\u001b[0mscatter\u001b[0m\u001b[1;33m(\u001b[0m\u001b[1;33m*\u001b[0m\u001b[0mX\u001b[0m\u001b[1;33m.\u001b[0m\u001b[0mT\u001b[0m\u001b[1;33m,\u001b[0m \u001b[0malpha\u001b[0m \u001b[1;33m=\u001b[0m \u001b[1;33m(\u001b[0m\u001b[1;36m1\u001b[0m \u001b[1;33m-\u001b[0m \u001b[0mjac_dists\u001b[0m\u001b[1;33m)\u001b[0m\u001b[1;33m**\u001b[0m\u001b[0malpha\u001b[0m\u001b[1;33m,\u001b[0m \u001b[0mcolor\u001b[0m \u001b[1;33m=\u001b[0m \u001b[1;34m'r'\u001b[0m\u001b[1;33m,\u001b[0m \u001b[0mlabel\u001b[0m \u001b[1;33m=\u001b[0m \u001b[1;34m'real values'\u001b[0m\u001b[1;33m)\u001b[0m\u001b[1;33m\u001b[0m\u001b[1;33m\u001b[0m\u001b[0m\n\u001b[0;32m      5\u001b[0m \u001b[1;33m\u001b[0m\u001b[0m\n",
      "\u001b[1;32mC:\\Users\\USERAM~1\\AppData\\Local\\Temp/ipykernel_21312/3031628096.py\u001b[0m in \u001b[0;36m__init__\u001b[1;34m(self, pointwse_distribution, alpha, scale_variance_pointwise, variance_mapper, min_var_factor)\u001b[0m\n\u001b[0;32m     67\u001b[0m     ):\n\u001b[0;32m     68\u001b[0m \u001b[1;33m\u001b[0m\u001b[0m\n\u001b[1;32m---> 69\u001b[1;33m         \u001b[0mself\u001b[0m\u001b[1;33m.\u001b[0m\u001b[0mpointwse_distribution\u001b[0m \u001b[1;33m=\u001b[0m \u001b[0mpontiwse_distribution\u001b[0m\u001b[1;33m\u001b[0m\u001b[1;33m\u001b[0m\u001b[0m\n\u001b[0m\u001b[0;32m     70\u001b[0m         \u001b[0mself\u001b[0m\u001b[1;33m.\u001b[0m\u001b[0malpha\u001b[0m \u001b[1;33m=\u001b[0m \u001b[0malpha\u001b[0m\u001b[1;33m\u001b[0m\u001b[1;33m\u001b[0m\u001b[0m\n\u001b[0;32m     71\u001b[0m         \u001b[0mself\u001b[0m\u001b[1;33m.\u001b[0m\u001b[0mscale_variance_pointwise\u001b[0m \u001b[1;33m=\u001b[0m \u001b[0mscale_variance_pointwise\u001b[0m\u001b[1;33m\u001b[0m\u001b[1;33m\u001b[0m\u001b[0m\n",
      "\u001b[1;31mNameError\u001b[0m: name 'pontiwse_distribution' is not defined"
     ]
    }
   ],
   "source": [
    "#samples = sample_from_neighbors_continuous(X, jac_dists,noise_type = 'multivariate_normal', size = 1000)\n",
    "alpha = 2\n",
    "plt.scatter(*JaccardPointwiseGaussianMixture(alpha = alpha).fit(X, jac_dists).sample(1000).T, alpha = 0.1, color = 'b', label = 'mixture sample')\n",
    "plt.scatter(*X.T, alpha = (1 - jac_dists)**alpha, color = 'r', label = 'real values')\n",
    "\n",
    "mean,cov = estimate_mean_and_variance_from_neighbors_mixture(X, jac_dists, alpha = alpha)\n",
    "\n",
    "plt.scatter(*np.random.multivariate_normal(mean, cov, 1000).T, alpha = 0.1, color = 'g', label = 'sampled from multivariate gaussian')\n",
    "plt.legend()"
   ]
  },
  {
   "cell_type": "code",
   "execution_count": null,
   "metadata": {},
   "outputs": [],
   "source": [
    "n_neigbors = 100\n",
    "#X = 3*np.random.random(n_neigbors).reshape(-1,1)\n",
    "#jac_dists = np.random.random(n_neigbors)\n",
    "\n",
    "%timeit sample_from_neighbors_continuous(X, jac_dists, size = 1000, noise_type = 'multivariate_normal')"
   ]
  },
  {
   "cell_type": "code",
   "execution_count": null,
   "metadata": {},
   "outputs": [],
   "source": [
    "%timeit mean,cov = estimate_mean_and_variance_from_neighbors_mixture(X, jac_dists)"
   ]
  },
  {
   "cell_type": "code",
   "execution_count": null,
   "metadata": {},
   "outputs": [],
   "source": [
    "%timeit sample_from_neighbors_continuous(X[:,0:1], jac_dists, size = 1000, noise_type = 'normal')"
   ]
  },
  {
   "cell_type": "code",
   "execution_count": null,
   "metadata": {},
   "outputs": [],
   "source": [
    "%timeit JaccardPointwiseGaussianMixture().fit(X[:,0:1], jac_dists).sample(1000)"
   ]
  },
  {
   "cell_type": "code",
   "execution_count": null,
   "metadata": {},
   "outputs": [],
   "source": [
    "sns.distplot(PointwiseMixture().fit(10*np.random.randn(100), 3*abs(np.random.randn(100)), weights = abs(np.random.randn(100,))).sample(10000).flatten())"
   ]
  },
  {
   "cell_type": "code",
   "execution_count": null,
   "metadata": {},
   "outputs": [],
   "source": [
    "n_neigbors = 100\n",
    "X = 3*np.random.random(n_neigbors).reshape(-1,1)\n",
    "jac_dists = np.random.random(n_neigbors)\n",
    "\n",
    "\n",
    "v1, id1 = sample_from_neighbors_continuous(X, jac_dists, size = 1000, noise_type = 'normal', alpha = 10)\n",
    "v2, id2 = sample_from_neighbors_continuous(X, jac_dists, size = 1000, noise_type = 'normal', alpha = 1)\n",
    "v3, id3 = sample_from_neighbors_continuous(X, jac_dists, size = 1000, noise_type = 'normal', alpha = 0.01)\n",
    "\n",
    "sns.distplot(v1.flatten())\n",
    "sns.distplot(v2.flatten())\n",
    "sns.distplot(v3.flatten())"
   ]
  },
  {
   "cell_type": "code",
   "execution_count": null,
   "metadata": {},
   "outputs": [],
   "source": [
    "sns.distplot(jac_dists[id1])\n",
    "sns.distplot(jac_dists[id2])\n",
    "sns.distplot(jac_dists[id3])"
   ]
  },
  {
   "cell_type": "code",
   "execution_count": null,
   "metadata": {},
   "outputs": [],
   "source": []
  },
  {
   "cell_type": "markdown",
   "metadata": {},
   "source": [
    "# Export -"
   ]
  },
  {
   "cell_type": "code",
   "execution_count": null,
   "metadata": {},
   "outputs": [],
   "source": [
    "#hide\n",
    "from nbdev.export import notebook2script\n",
    "notebook2script()"
   ]
  }
 ],
 "metadata": {
  "kernelspec": {
   "display_name": "fkausality_venv",
   "language": "python",
   "name": "fkausality_venv"
  },
  "language_info": {
   "codemirror_mode": {
    "name": "ipython",
    "version": 3
   },
   "file_extension": ".py",
   "mimetype": "text/x-python",
   "name": "python",
   "nbconvert_exporter": "python",
   "pygments_lexer": "ipython3",
   "version": "3.7.6"
  },
  "latex_envs": {
   "LaTeX_envs_menu_present": true,
   "autoclose": false,
   "autocomplete": true,
   "bibliofile": "biblio.bib",
   "cite_by": "apalike",
   "current_citInitial": 1,
   "eqLabelWithNumbers": true,
   "eqNumInitial": 1,
   "hotkeys": {
    "equation": "Ctrl-E",
    "itemize": "Ctrl-I"
   },
   "labels_anchors": false,
   "latex_user_defs": false,
   "report_style_numbering": false,
   "user_envs_cfg": false
  },
  "toc": {
   "base_numbering": 1,
   "nav_menu": {},
   "number_sections": true,
   "sideBar": true,
   "skip_h1_title": false,
   "title_cell": "Table of Contents",
   "title_sidebar": "Contents",
   "toc_cell": false,
   "toc_position": {
    "height": "calc(100% - 180px)",
    "left": "10px",
    "top": "150px",
    "width": "250.319px"
   },
   "toc_section_display": true,
   "toc_window_display": false
  }
 },
 "nbformat": 4,
 "nbformat_minor": 4
}
