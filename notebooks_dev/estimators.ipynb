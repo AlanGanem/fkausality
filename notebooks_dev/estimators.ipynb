{
 "cells": [
  {
   "cell_type": "code",
   "execution_count": 1,
   "metadata": {},
   "outputs": [],
   "source": [
    "#default_exp estimators"
   ]
  },
  {
   "cell_type": "code",
   "execution_count": 2,
   "metadata": {},
   "outputs": [],
   "source": [
    "#hide\n",
    "from nbdev.showdoc import *\n",
    "\n",
    "%load_ext autoreload\n",
    "%autoreload 2 #autoreload to make code from other modules get updated online inside notebook\n",
    "\n",
    "import sys\n",
    "sys.path.append('..') #appends project root to path in order to import project packages since `noteboks_dev` is not on the root\n",
    "\n",
    "#DO NOT EDIT"
   ]
  },
  {
   "cell_type": "markdown",
   "metadata": {},
   "source": [
    "# Code"
   ]
  },
  {
   "cell_type": "code",
   "execution_count": 3,
   "metadata": {},
   "outputs": [
    {
     "name": "stderr",
     "output_type": "stream",
     "text": [
      "..\\fkausality\\utils.py:20: UserWarning: could not load sparse_dot_topn: No module named 'sparse_dot_topn'\n",
      "  warn(f'could not load sparse_dot_topn: {e}')\n"
     ]
    }
   ],
   "source": [
    "#export\n",
    "import multiprocessing\n",
    "from multiprocessing import Pool, cpu_count\n",
    "from functools import partial\n",
    "\n",
    "import numpy as np\n",
    "import pandas as pd\n",
    "\n",
    "from sklearn.base import BaseEstimator, RegressorMixin\n",
    "import statsmodels.api as sm\n",
    "\n",
    "from fkausality.kernel import JaccardForestKernel\n",
    "from fkausality.utils import hstack, vstack\n",
    "from fkausality.dist import sample_from_neighbors_continuous, estimate_mean_and_variance_from_neighbors_mixture"
   ]
  },
  {
   "cell_type": "markdown",
   "metadata": {},
   "source": [
    "## Helping functions and classes"
   ]
  },
  {
   "cell_type": "code",
   "execution_count": 4,
   "metadata": {},
   "outputs": [],
   "source": [
    "#export \n",
    "\n",
    "def pandas_gorupby_apply_parallel(dfGrouped, func, **kwargs):\n",
    "    with Pool(cpu_count()) as p:\n",
    "        ret_list = p.map(partial(func, **kwargs), [group for name, group in dfGrouped])\n",
    "    return ret_list\n",
    "\n",
    "def idxs_split(a, n, axis = 0, drop_empty = True, return_slices = False):\n",
    "    '''\n",
    "    returns indices of the n splits of the a array along axis\n",
    "    '''\n",
    "    if not hasattr(a, 'shape'):\n",
    "        a = np.arange(len(a))\n",
    "    idxs = np.array_split(np.arange(a.shape[axis]), n, axis = 0)\n",
    "    idxs = [list(i) for i in idxs]\n",
    "    \n",
    "    if drop_empty:\n",
    "        idxs = [i for i in idxs if i]\n",
    "    \n",
    "    if return_slices:\n",
    "        idxs = [slice(min(i), max(i)+1) for i in idxs if i]\n",
    "        \n",
    "    return idxs\n",
    "\n",
    "def _agg_mean_variance(df, y_columns, alpha, variance_mapper, min_var_factor):\n",
    "    \n",
    "    mean, var = estimate_mean_and_variance_from_neighbors_mixture(\n",
    "        df[y_columns].values,\n",
    "        df['dissimilarity'].values,\n",
    "        alpha = alpha,\n",
    "        variance_mapper = variance_mapper,\n",
    "        min_var_factor = min_var_factor,\n",
    "    )\n",
    "    \n",
    "    if var.ndim > 1:\n",
    "        var = var.diagonal()\n",
    "        d = np.concatenate([mean,var]).reshape(2,len(y_columns))\n",
    "    else:\n",
    "        d = [mean,var]\n",
    "    \n",
    "    d = pd.DataFrame(d)\n",
    "    d.index = pd.Index(['mean','variance'], name = 'statistic')\n",
    "    d.columns = y_columns\n",
    "    \n",
    "    return d"
   ]
  },
  {
   "cell_type": "code",
   "execution_count": 5,
   "metadata": {},
   "outputs": [],
   "source": [
    "#export\n",
    "class SMFormulaWrapper(BaseEstimator, RegressorMixin):\n",
    "    \"\"\" \n",
    "    A sklearn-style wrapper for formula-based statsmodels regressors,\n",
    "    thanks to https://nelsonauner.com/data/2018/05/21/wrap-statsmodels-in-sklearn.html\n",
    "    \"\"\"\n",
    "    def __init__(self, model_class, formula):\n",
    "        self.model_class = model_class\n",
    "        self.formula = formula\n",
    "    def fit(self, X, y=None):\n",
    "        self.model_ = self.model_class(self.formula, data=X)\n",
    "        self.results_ = self.model_.fit()\n",
    "    def predict(self, X):\n",
    "        return self.results_.predict(X)\n",
    "    \n",
    "class SMWrapper(BaseEstimator, RegressorMixin):\n",
    "    \"\"\" \n",
    "    A universal sklearn-style wrapper for statsmodels regressors ,\n",
    "    thanks to https://stackoverflow.com/questions/41045752/using-statsmodel-estimations-with-scikit-learn-cross-validation-is-it-possible/\n",
    "    \"\"\"\n",
    "    def __init__(self, model_class, fit_intercept=True):\n",
    "        self.model_class = model_class\n",
    "        self.fit_intercept = fit_intercept\n",
    "    def fit(self, X, y):\n",
    "        if self.fit_intercept:\n",
    "            X = sm.add_constant(X)\n",
    "        self.model_ = self.model_class(y, X)\n",
    "        self.results_ = self.model_.fit()\n",
    "        return self\n",
    "    def predict(self, X):\n",
    "        if self.fit_intercept:\n",
    "            X = sm.add_constant(X)\n",
    "        return self.results_.predict(X)"
   ]
  },
  {
   "cell_type": "markdown",
   "metadata": {},
   "source": [
    "## Base class _FKEstimator"
   ]
  },
  {
   "cell_type": "code",
   "execution_count": 6,
   "metadata": {},
   "outputs": [],
   "source": [
    "#export\n",
    "class _FKEstimator(BaseEstimator):\n",
    "    \n",
    "    def __init__(\n",
    "        self,\n",
    "        tree_ensemble_estimator,\n",
    "        #pointwise variance args\n",
    "        pointwise_variance_dist = 'normal',\n",
    "        pointwise_variance_alpha = 1,\n",
    "        pointwise_variance_min_var = 1e-2,\n",
    "        #knn index args\n",
    "        n_neighbors=30,\n",
    "        index_time_params={'M': 30, 'indexThreadQty': 4, 'efConstruction': 100, 'post': 0},\n",
    "        query_time_params={'efSearch': 100},     \n",
    "        n_jobs = None\n",
    "        \n",
    "    ):\n",
    "        \n",
    "        #tree estimator\n",
    "        self.tree_ensemble_estimator = tree_ensemble_estimator\n",
    "        #pointiwse variance for sampling\n",
    "        self.pointwise_variance_dist = pointwise_variance_dist\n",
    "        self.pointwise_variance_alpha = pointwise_variance_alpha\n",
    "        self.pointwise_variance_min_var = pointwise_variance_min_var\n",
    "        #knn indexing\n",
    "        self.n_neighbors = n_neighbors\n",
    "        self.index_time_params = index_time_params\n",
    "        self.query_time_params = query_time_params\n",
    "        self.n_jobs = n_jobs\n",
    "        return\n",
    "        \n",
    "    def fit(self, X, y = None, T = None, save_values = None, **kwargs):        \n",
    "        \n",
    "        #fit matching forest estimator\n",
    "        self.forest_estimator_kernel = JaccardForestKernel(\n",
    "            estimator=self.tree_ensemble_estimator,\n",
    "            n_neighbors=self.n_neighbors,\n",
    "            index_time_params=self.index_time_params,\n",
    "            query_time_params=self.query_time_params,\n",
    "        )\n",
    "                                \n",
    "        #handle save values\n",
    "        if not save_values is None:\n",
    "            if not hasattr(save_values, 'columns'):\n",
    "                if save_values.ndim == 1:\n",
    "                    save_values = save_values.reshape(-1,1)                \n",
    "                else:\n",
    "                    pass\n",
    "                save_values_columns_ = [f'saved_value_{i}' for i in range(y.shape[-1])]\n",
    "            else:\n",
    "                save_values_columns_ = list(save_values.columns)\n",
    "        else:\n",
    "            self.save_values_columns_ = []\n",
    "            save_values = np.empty((y.shape[0], 0), )\n",
    "                    \n",
    "        #handle y saving\n",
    "        if not hasattr(y, 'columns'):\n",
    "            if y.ndim == 1:\n",
    "                y = y.reshape(-1,1)        \n",
    "            else:\n",
    "                pass\n",
    "            y_columns_ = [f'target_{i}' for i in range(y.shape[-1])]\n",
    "        else:\n",
    "            y_columns_ = list(y.columns)\n",
    "        \n",
    "        #handle T saving\n",
    "        if not hasattr(T, 'columns'):\n",
    "            if T.ndim == 1:\n",
    "                T = T.reshape(-1,1)        \n",
    "            else:\n",
    "                pass\n",
    "            T_columns_ = [f'treatment_{i}' for i in range(y.shape[-1])]\n",
    "        else:\n",
    "            T_columns_ = list(T.columns)\n",
    "        \n",
    "        #cast to array\n",
    "        save_values = np.array(save_values)\n",
    "        y = np.array(y)\n",
    "        T = np.array(T)\n",
    "        #remove from save_values cols that are already in y or T\n",
    "        all_save_columns = pd.Series(save_values_columns_ + T_columns_ + y_columns_)\n",
    "        keep_cols_msk = (~all_save_columns.duplicated()).values\n",
    "        all_save_columns = all_save_columns[keep_cols_msk].values.tolist()\n",
    "        #hstack save_values to y and T\n",
    "        save_values = hstack([save_values, T, y])[:, keep_cols_msk]\n",
    "        \n",
    "        self.forest_estimator_kernel.fit(X, y = T, save_values = save_values, **kwargs) #matching esstimator regress X on T\n",
    "        \n",
    "        self.saved_values_ = save_values\n",
    "        self.save_values_columns_ = save_values_columns_\n",
    "        self.T_columns_ = T_columns_\n",
    "        self.y_columns_ = y_columns_\n",
    "        self.all_saved_values_columns_ = all_save_columns\n",
    "        return self\n",
    "    \n",
    "    #def _saved_data_to_pandas(self, values):\n",
    "        #list is returned from query, so we have to iterate                \n",
    "    #    return [pd.DataFrame(v, columns = self.all_saved_values_columns_) for v in values]\n",
    "    \n",
    "    def kneighbors(self, X = None, n_neighbors = None, return_distance = False, query_from = None):\n",
    "        if not query_from is None:\n",
    "            params = self.forest_estimator_kernel.nearest_neighbors_estimator.get_params()\n",
    "            klass = self.forest_estimator_kernel.nearest_neighbors_estimator.__class__\n",
    "            knn_estim = klass(**params).fit(X)\n",
    "        else:\n",
    "            knn_estim = self.forest_estimator_kernel        \n",
    "            \n",
    "        return knn_estim.kneighbors(X = X, n_neighbors = n_neighbors, return_distance = return_distance)\n",
    "    \n",
    "    def query(self, X = None, n_neighbors = None, precomputed_neighbors = None):\n",
    "        '''\n",
    "        queries similar datapoints and returns saved_data from queried indexes, alongside\n",
    "        jaccard dissimilarity\n",
    "        '''\n",
    "        if (hasattr(X, 'index') and hasattr(X, 'columns')): #is a dataframe like\n",
    "            original_X_idxs = X.index\n",
    "        else:\n",
    "            original_X_idxs = np.arange(len(X))\n",
    "            \n",
    "        if precomputed_neighbors is None:\n",
    "            precomputed_neighbors = self.kneighbors(X = X, n_neighbors = n_neighbors, return_distance=True)\n",
    "                        \n",
    "        dsts, nbrs_idxs = precomputed_neighbors\n",
    "                        \n",
    "        values = []\n",
    "        for i in range(len(nbrs_idxs)):\n",
    "            msk_i = dsts[i] < 1 #only examples with dissimilarity < 1\n",
    "            idx_i = nbrs_idxs[i][msk_i]\n",
    "            dist_i = dsts[i][msk_i].reshape(-1,1)            \n",
    "            v = self.saved_values_[idx_i]\n",
    "            v = np.hstack([v, dist_i, original_X_idxs[i]*np.ones((len(v),1), dtype = int)])\n",
    "            #faster than using .assign\n",
    "            v = pd.DataFrame(v, columns = self.all_saved_values_columns_ +['dissimilarity', '_index'])\n",
    "            v['_index'] = v['_index'].astype(int)\n",
    "            values.append(v)                        \n",
    "        \n",
    "        return values    \n",
    "    \n",
    "\n"
   ]
  },
  {
   "cell_type": "markdown",
   "metadata": {},
   "source": [
    "## High Level Estimators"
   ]
  },
  {
   "cell_type": "markdown",
   "metadata": {},
   "source": [
    "### Continuous Effect-Discrete Treatment (CEDTEstimator)"
   ]
  },
  {
   "cell_type": "code",
   "execution_count": 7,
   "metadata": {},
   "outputs": [],
   "source": [
    "#export\n",
    "class CEDTEstimator(_FKEstimator):\n",
    "    '''\n",
    "    Continuous Effect - Discrete Treatmet estimator\n",
    "    '''            \n",
    "    def sample(\n",
    "        self,\n",
    "        X = None,\n",
    "        n_neighbors = None,\n",
    "        precomputed_neighbors = None,\n",
    "        sample_size = 100,\n",
    "        alpha = 1,\n",
    "        noise_type = 'normal',\n",
    "        variance_mapper='log',\n",
    "        min_var_factor=0.01,\n",
    "    ):\n",
    "        '''\n",
    "        samples target (y) according to pointwise_variance sampling strategy.\n",
    "        if not stratify, samples are drawn randomly from neighbors\n",
    "        '''\n",
    "        \n",
    "        queries = self.query(X, n_neighbors = n_neighbors, precomputed_neighbors = precomputed_neighbors)        \n",
    "        sampled_dfs = []\n",
    "        for q in queries:            \n",
    "            sampled_df = (\n",
    "                q.groupby(self.T_columns_)\n",
    "                .apply(\n",
    "                    lambda df: np.hstack(\n",
    "                        [\n",
    "                            sample_from_neighbors_continuous(\n",
    "                            neighborhood_values = df[self.y_columns_].values,\n",
    "                            jac_dists = df['dissimilarity'].values,\n",
    "                            size = sample_size, \n",
    "                            alpha = alpha,\n",
    "                            noise_type = noise_type,\n",
    "                            variance_mapper=variance_mapper,\n",
    "                            min_var_factor=min_var_factor,                      \n",
    "                            )[0],                            \n",
    "                            np.arange(sample_size).reshape(-1,1)\n",
    "                        ]\n",
    "                    )\n",
    "                )\n",
    "            )\n",
    "                        \n",
    "            sampled_df = pd.concat(sampled_df.apply(pd.DataFrame).to_dict())\n",
    "            sampled_df.columns = self.y_columns_ + ['sample_index']\n",
    "            sampled_df = sampled_df.reset_index(level = -1, drop = True)\n",
    "            sampled_df.index = sampled_df.index.set_names(tuple(self.T_columns_))            \n",
    "            sampled_df['sample_index'] = sampled_df['sample_index'].astype(int)\n",
    "            sampled_df = sampled_df.set_index('sample_index', append = True)\n",
    "            sampled_dfs.append(sampled_df)\n",
    "        \n",
    "        return sampled_dfs\n",
    "    \n",
    "    \n",
    "    def outcomes(\n",
    "        self,\n",
    "        X = None,\n",
    "        n_neighbors = None,\n",
    "        precomputed_neighbors = None,\n",
    "        alpha = 1,        \n",
    "        variance_mapper = 'log',\n",
    "        min_var_factor = 1e-2,\n",
    "    ):\n",
    "        '''\n",
    "        infers conditional average treatment effect for each datapoint, taking the\n",
    "        correlation between the target and the treatment in each neighborhood\n",
    "        '''\n",
    "        \n",
    "        q = self.query(X, n_neighbors = n_neighbors, precomputed_neighbors = precomputed_neighbors)        \n",
    "        q = pd.concat(q)        \n",
    "        \n",
    "        q = q.groupby(['_index'] + self.T_columns_).apply(\n",
    "                            lambda df: _agg_mean_variance(\n",
    "                                df,\n",
    "                                y_columns = self.y_columns_,\n",
    "                                alpha = alpha,\n",
    "                                variance_mapper = variance_mapper,\n",
    "                                min_var_factor = min_var_factor,\n",
    "                            )\n",
    "                        )\n",
    "        \n",
    "        return q\n",
    "    \n",
    "    def treatment_effect(\n",
    "        self,\n",
    "        X,\n",
    "        control,\n",
    "        n_neighbors = None,\n",
    "        precomputed_neighbors = None,\n",
    "        alpha = 1,        \n",
    "        variance_mapper = 'log',\n",
    "        min_var_factor = 1e-2,\n",
    "        \n",
    "    ):\n",
    "        \n",
    "        outcomes = self.outcomes(\n",
    "            X = X,\n",
    "            n_neighbors = n_neighbors,\n",
    "            precomputed_neighbors = precomputed_neighbors,\n",
    "            alpha = alpha,        \n",
    "            variance_mapper = variance_mapper,\n",
    "            min_var_factor = min_var_factor,\n",
    "        )\n",
    "        \n",
    "        #control = 0\n",
    "        if not isinstance(control, (tuple, list, set)):\n",
    "            control = (control,)\n",
    "            \n",
    "        c_idx_mean = slice(None), *control, 'mean'\n",
    "        t_idx_mean = slice(None), *[slice(None)]*len(control),'mean'\n",
    "        \n",
    "        c_idx_var = slice(None), *control, 'variance'\n",
    "        t_idx_var = slice(None), *[slice(None)]*len(control),'variance'\n",
    "        \n",
    "        means = outcomes.loc[t_idx_mean] - outcomes.loc[c_idx_mean]\n",
    "        var = outcomes.loc[t_idx_var] + outcomes.loc[c_idx_var]\n",
    "\n",
    "        var['statistic'] = 'variance'\n",
    "        means['statistic'] = 'mean'\n",
    "\n",
    "        var = var.set_index('statistic', append = True)\n",
    "        means = means.set_index('statistic', append = True)\n",
    "        \n",
    "        outcomes.loc[var.index] = var\n",
    "        outcomes.loc[means.index] = means\n",
    "        return outcomes"
   ]
  },
  {
   "cell_type": "markdown",
   "metadata": {},
   "source": [
    "#### Usage"
   ]
  },
  {
   "cell_type": "code",
   "execution_count": 8,
   "metadata": {},
   "outputs": [],
   "source": [
    "#data for evaluation\n",
    "from fklearn.data.datasets import make_confounded_data\n",
    "import seaborn as sns\n",
    "import matplotlib.pyplot as plt \n",
    "%matplotlib inline"
   ]
  },
  {
   "cell_type": "code",
   "execution_count": 338,
   "metadata": {},
   "outputs": [],
   "source": [
    "df_rnd, df_obs, df_cf = make_confounded_data(10000)\n",
    "#calculate treament effect based on counterfactuals\n",
    "t_effets = (df_obs['recovery'] - df_cf['recovery'])*((-1)**df_cf['medication'])\n",
    "t_effects_mult = (df_obs['recovery']/df_cf['recovery'])**((-1)**df_cf['medication'])\n",
    "\n",
    "df_obs['treatment_effect_mult'] = t_effects_mult\n",
    "df_obs['treatment_effect'] = t_effets\n",
    "df_obs['cf_recovery'] = df_cf['recovery']"
   ]
  },
  {
   "cell_type": "code",
   "execution_count": 308,
   "metadata": {},
   "outputs": [
    {
     "data": {
      "text/plain": [
       "medication\n",
       "0    AxesSubplot(0.125,0.125;0.775x0.755)\n",
       "1    AxesSubplot(0.125,0.125;0.775x0.755)\n",
       "dtype: object"
      ]
     },
     "execution_count": 308,
     "metadata": {},
     "output_type": "execute_result"
    },
    {
     "data": {
      "image/png": "[encoded data removed]",
      "text/plain": [
       "<Figure size 432x288 with 1 Axes>"
      ]
     },
     "metadata": {
      "needs_background": "light"
     },
     "output_type": "display_data"
    }
   ],
   "source": [
    "df_rnd.groupby('medication').apply(lambda x: sns.distplot(x['recovery']))"
   ]
  },
  {
   "cell_type": "code",
   "execution_count": 309,
   "metadata": {
    "scrolled": true
   },
   "outputs": [
    {
     "data": {
      "text/plain": [
       "medication\n",
       "0.0    AxesSubplot(0.125,0.125;0.775x0.755)\n",
       "1.0    AxesSubplot(0.125,0.125;0.775x0.755)\n",
       "dtype: object"
      ]
     },
     "execution_count": 309,
     "metadata": {},
     "output_type": "execute_result"
    },
    {
     "data": {
      "image/png": "[encoded data removed]",
      "text/plain": [
       "<Figure size 432x288 with 1 Axes>"
      ]
     },
     "metadata": {
      "needs_background": "light"
     },
     "output_type": "display_data"
    }
   ],
   "source": [
    "df_obs.groupby('medication').apply(lambda x: sns.distplot(x['recovery']))"
   ]
  },
  {
   "cell_type": "code",
   "execution_count": 310,
   "metadata": {},
   "outputs": [
    {
     "data": {
      "text/plain": [
       "count    10000.000000\n",
       "mean       -30.144300\n",
       "std         21.483287\n",
       "min       -289.000000\n",
       "25%        -40.000000\n",
       "50%        -25.000000\n",
       "75%        -15.000000\n",
       "max          5.000000\n",
       "Name: treatment_effect, dtype: float64"
      ]
     },
     "execution_count": 310,
     "metadata": {},
     "output_type": "execute_result"
    },
    {
     "data": {
      "image/png": "[encoded data removed]",
      "text/plain": [
       "<Figure size 432x288 with 1 Axes>"
      ]
     },
     "metadata": {
      "needs_background": "light"
     },
     "output_type": "display_data"
    }
   ],
   "source": [
    "#We can see that the treatment effect can have a negative effect (positive recovery time) in very few cases\n",
    "\n",
    "sns.distplot(df_obs['treatment_effect'])\n",
    "df_obs['treatment_effect'].describe()"
   ]
  },
  {
   "cell_type": "code",
   "execution_count": 316,
   "metadata": {},
   "outputs": [
    {
     "name": "stdout",
     "output_type": "stream",
     "text": [
      "0.3789458209014536\n"
     ]
    },
    {
     "data": {
      "image/png": "[encoded data removed]",
      "text/plain": [
       "<Figure size 432x288 with 1 Axes>"
      ]
     },
     "metadata": {
      "needs_background": "light"
     },
     "output_type": "display_data"
    }
   ],
   "source": [
    "sns.distplot(t_effects_mult)\n",
    "plt.axvline(t_effects_mult.mean())\n",
    "print(t_effects_mult.mean())"
   ]
  },
  {
   "cell_type": "code",
   "execution_count": 339,
   "metadata": {},
   "outputs": [],
   "source": [
    "df_obs['log_treatment_effect'] = -np.log1p(abs(df_obs['treatment_effect']))\n",
    "df_obs['log_recovery'] = np.log1p(abs(df_obs['recovery']))\n",
    "df_obs['log_cf_recovery'] = np.log1p(abs(df_obs['cf_recovery']))"
   ]
  },
  {
   "cell_type": "code",
   "execution_count": 340,
   "metadata": {},
   "outputs": [],
   "source": [
    "Tc = ['medication']\n",
    "Xc = ['sex','age','severity']\n",
    "yc = ['recovery']\n",
    "cf_yc = ['cf_recovery']\n",
    "\n",
    "X = df_obs[Xc]\n",
    "T = df_obs[Tc]\n",
    "y = df_obs[yc]"
   ]
  },
  {
   "cell_type": "code",
   "execution_count": 356,
   "metadata": {},
   "outputs": [],
   "source": [
    "from sklearn.ensemble import RandomForestRegressor, RandomForestClassifier, ExtraTreesClassifier, ExtraTreesRegressor, GradientBoostingClassifier\n",
    "\n",
    "tree_estim = RandomForestClassifier(n_estimators = 100, min_samples_leaf = 10)\n",
    "estim = CEDTEstimator(tree_estim, n_neighbors = 100, n_jobs = None).fit(X, y = y, T = T, save_values = df_obs)"
   ]
  },
  {
   "cell_type": "code",
   "execution_count": 357,
   "metadata": {},
   "outputs": [
    {
     "data": {
      "text/plain": [
       "<matplotlib.legend.Legend at 0x2bbefc3a948>"
      ]
     },
     "execution_count": 357,
     "metadata": {},
     "output_type": "execute_result"
    },
    {
     "data": {
      "image/png": "[encoded data removed]",
      "text/plain": [
       "<Figure size 432x288 with 1 Axes>"
      ]
     },
     "metadata": {
      "needs_background": "light"
     },
     "output_type": "display_data"
    }
   ],
   "source": [
    "alpha = 1\n",
    "if not 'i' in locals():\n",
    "    i = 0\n",
    "i += 1 \n",
    "ground_truth = df_obs.iloc[i]\n",
    "samples = estim.sample(X.iloc[i:i+1],sample_size = 1000, n_neighbors = 1000, noise_type = 'normal', alpha = alpha)[0]\n",
    "#estim_effect = estim.treatment_effect(X.iloc[i:i+1], n_neighbors = 1000, alpha = alpha, control_name = 0)[0]\n",
    "\n",
    "got_medication = ground_truth[Tc[0]] == 1\n",
    "\n",
    "t_recovery = ground_truth[yc[0]] if got_medication else ground_truth[cf_yc[0]]\n",
    "nt_recovery = ground_truth[yc[0]] if not got_medication else ground_truth[cf_yc[0]]\n",
    "\n",
    "nt_text = ' (counterfactual)' if got_medication else ''\n",
    "t_text = ' (counterfactual)' if not got_medication else ''\n",
    "\n",
    "plt.axvline(nt_recovery, color = 'b', label = f'real no treatmet{t_text}')\n",
    "plt.axvline(t_recovery, color = 'orange', label = f'real treatmet{nt_text}')\n",
    "\n",
    "\n",
    "samples.groupby(Tc)[yc[0]].apply(sns.distplot)\n",
    "plt.legend()\n",
    "\n"
   ]
  },
  {
   "cell_type": "code",
   "execution_count": 358,
   "metadata": {},
   "outputs": [
    {
     "data": {
      "text/plain": [
       "<matplotlib.legend.Legend at 0x2bbfa528a08>"
      ]
     },
     "execution_count": 358,
     "metadata": {},
     "output_type": "execute_result"
    },
    {
     "data": {
      "image/png": "[encoded data removed]",
      "text/plain": [
       "<Figure size 432x288 with 1 Axes>"
      ]
     },
     "metadata": {
      "needs_background": "light"
     },
     "output_type": "display_data"
    }
   ],
   "source": [
    "outcomes = estim.outcomes(X.iloc[i:i+10].values, n_neighbors = 1000, alpha = alpha).loc[0]\n",
    "\n",
    "plt.axvline(nt_recovery, color = 'b', label = f'real no treatmet{t_text}')\n",
    "plt.axvline(t_recovery, color = 'orange', label = f'real treatmet{nt_text}')\n",
    "\n",
    "treated_dist = np.random.normal(outcomes.loc[1,'mean'], outcomes.loc[1,'variance']**(1/2), size = 1000)\n",
    "untreated_dist = np.random.normal(outcomes.loc[0,'mean'], outcomes.loc[0,'variance']**(1/2), size = 1000)\n",
    "\n",
    "sns.distplot(untreated_dist)\n",
    "sns.distplot(treated_dist)\n",
    "plt.legend()"
   ]
  },
  {
   "cell_type": "code",
   "execution_count": 410,
   "metadata": {},
   "outputs": [],
   "source": [
    "effect_col = 'treatment_effect'\n",
    "n_estimations = 5_000\n",
    "alpha = 100\n",
    "idxs = np.random.choice(len(df_obs), n_estimations, replace = False)\n",
    "true_effects = df_obs.iloc[idxs][[effect_col, 'treatment_effect_mult']]"
   ]
  },
  {
   "cell_type": "code",
   "execution_count": 420,
   "metadata": {},
   "outputs": [],
   "source": [
    "effects = estim.treatment_effect(X.iloc[idxs], n_neighbors = 100, alpha = alpha, control = (0,) )\n",
    "outcomes = estim.outcomes(X.iloc[idxs], n_neighbors = 100, alpha = alpha)"
   ]
  },
  {
   "cell_type": "code",
   "execution_count": 421,
   "metadata": {},
   "outputs": [],
   "source": [
    "estimated_effects = effects.query('statistic == \"mean\" and medication == 1').reset_index(level = ['medication', 'statistic'],drop = True)\n",
    "estimated_effects_var = effects.query('statistic == \"variance\" and medication == 1').reset_index(level = ['medication', 'statistic'],drop = True)"
   ]
  },
  {
   "cell_type": "code",
   "execution_count": 422,
   "metadata": {},
   "outputs": [],
   "source": [
    "true_effects['estimated_treatment_effect'] = estimated_effects\n",
    "true_effects['estimated_treatment_variance'] = estimated_effects_var\n",
    "true_effects['estimated_treatment_effect_error'] = true_effects[effect_col] -  true_effects[f'estimated_treatment_effect']\n",
    "true_effects['eestimated_treatment_effect_mult'] = outcomes.loc[slice(None), 1, 'mean']/outcomes.loc[slice(None), 0, 'mean']"
   ]
  },
  {
   "cell_type": "code",
   "execution_count": 423,
   "metadata": {},
   "outputs": [
    {
     "name": "stdout",
     "output_type": "stream",
     "text": [
      "0.0994\n"
     ]
    }
   ],
   "source": [
    "from scipy import stats\n",
    "from fkausality.dist import PointwiseMixture\n",
    "\n",
    "def baesyan_bootstrap(samples, n_bootstraped_samples):\n",
    "    samples = np.array(samples)\n",
    "    samples = samples[~np.isnan(samples)]\n",
    "    likelihoods = stats.dirichlet([1]*len(samples)).rvs(n_bootstraped_samples)\n",
    "    return (likelihoods*samples.reshape(1,-1)).sum(axis = 1)\n",
    "\n",
    "#mask of valid estimands\n",
    "msk = (true_effects['estimated_treatment_effect'].notna() & true_effects['estimated_treatment_variance'].notna() & (true_effects['estimated_treatment_variance'].abs() < np.inf)).values\n",
    "\n",
    "mixture = PointwiseMixture().fit(true_effects['estimated_treatment_effect'].values[msk], true_effects['estimated_treatment_variance'].values[msk]**(1/2))\n",
    "samples_mixture = mixture.sample(10000).flatten()\n",
    "samples = true_effects['estimated_treatment_effect'][msk]\n",
    "print(msk.mean())"
   ]
  },
  {
   "cell_type": "code",
   "execution_count": 424,
   "metadata": {},
   "outputs": [
    {
     "data": {
      "text/plain": [
       "<matplotlib.legend.Legend at 0x2bbfe34e5c8>"
      ]
     },
     "execution_count": 424,
     "metadata": {},
     "output_type": "execute_result"
    },
    {
     "data": {
      "image/png": "[encoded data removed]",
      "text/plain": [
       "<Figure size 432x288 with 1 Axes>"
      ]
     },
     "metadata": {
      "needs_background": "light"
     },
     "output_type": "display_data"
    }
   ],
   "source": [
    "#plot ATE\n",
    "sns.distplot(baesyan_bootstrap(samples, 1000), label= 'estimated ATE')\n",
    "sns.distplot(baesyan_bootstrap(samples_mixture, 1000), label= 'estimated ATE from gaussian mixture')\n",
    "#sns.distplot(true_effects['estimated_treatment_effect'], label= 'estimated ATE')\n",
    "plt.axvline(true_effects[effect_col][msk].mean(), label = 'real average TE', color = 'navy')\n",
    "\n",
    "plt.legend()"
   ]
  },
  {
   "cell_type": "code",
   "execution_count": 416,
   "metadata": {},
   "outputs": [
    {
     "name": "stdout",
     "output_type": "stream",
     "text": [
      "0.4289405166011441  vs (real) 0.3806199003861303\n"
     ]
    },
    {
     "data": {
      "text/plain": [
       "<matplotlib.lines.Line2D at 0x2bbfe1dbb08>"
      ]
     },
     "execution_count": 416,
     "metadata": {},
     "output_type": "execute_result"
    },
    {
     "data": {
      "image/png": "[encoded data removed]",
      "text/plain": [
       "<Figure size 432x288 with 1 Axes>"
      ]
     },
     "metadata": {
      "needs_background": "light"
     },
     "output_type": "display_data"
    }
   ],
   "source": [
    "estim_effect_mult = outcomes.loc[slice(None), 1, 'mean']/outcomes.loc[slice(None), 0, 'mean'].dropna()\n",
    "sns.distplot(estim_effect_mult)\n",
    "print(estim_effect_mult.dropna().values.flatten().mean(), ' vs (real)', true_effects['treatment_effect_mult'].mean())\n",
    "#plt.axvline(estim_effect_mult.dropna().values.flatten().mean())\n",
    "plt.axvline(true_effects['treatment_effect_mult'].mean(), color = 'r')"
   ]
  },
  {
   "cell_type": "code",
   "execution_count": 417,
   "metadata": {},
   "outputs": [
    {
     "data": {
      "text/plain": [
       "<matplotlib.lines.Line2D at 0x2bbfb7400c8>"
      ]
     },
     "execution_count": 417,
     "metadata": {},
     "output_type": "execute_result"
    },
    {
     "data": {
      "image/png": "[encoded data removed]",
      "text/plain": [
       "<Figure size 432x288 with 1 Axes>"
      ]
     },
     "metadata": {
      "needs_background": "light"
     },
     "output_type": "display_data"
    }
   ],
   "source": [
    "sns.distplot(true_effects['estimated_treatment_effect_error'])\n",
    "plt.axvline(true_effects['estimated_treatment_effect_error'].mean())\n",
    "plt.axvline(true_effects['estimated_treatment_effect_error'].median(), color = 'r')"
   ]
  },
  {
   "cell_type": "code",
   "execution_count": 409,
   "metadata": {},
   "outputs": [
    {
     "data": {
      "text/plain": [
       "<AxesSubplot:xlabel='estimated_treatment_effect', ylabel='Density'>"
      ]
     },
     "execution_count": 409,
     "metadata": {},
     "output_type": "execute_result"
    },
    {
     "data": {
      "image/png": "[encoded data removed]",
      "text/plain": [
       "<Figure size 432x288 with 1 Axes>"
      ]
     },
     "metadata": {
      "needs_background": "light"
     },
     "output_type": "display_data"
    }
   ],
   "source": [
    "sns.distplot(true_effects['treatment_effect'])\n",
    "sns.distplot(true_effects['estimated_treatment_effect'])"
   ]
  },
  {
   "cell_type": "code",
   "execution_count": 368,
   "metadata": {},
   "outputs": [
    {
     "name": "stdout",
     "output_type": "stream",
     "text": [
      "847 ms ± 0 ns per loop (mean ± std. dev. of 1 run, 1 loop each)\n",
      "8.26 s ± 0 ns per loop (mean ± std. dev. of 1 run, 1 loop each)\n",
      "3.23 s ± 0 ns per loop (mean ± std. dev. of 1 run, 1 loop each)\n",
      "3.27 s ± 0 ns per loop (mean ± std. dev. of 1 run, 1 loop each)\n"
     ]
    }
   ],
   "source": [
    "import warnings\n",
    "warnings.filterwarnings('ignore')\n",
    "#time for 1000 queries\n",
    "%timeit -n 1 -r 1 estim.query(X.iloc[i:i+1000], n_neighbors = 1000)\n",
    "%timeit -n 1 -r 1 estim.sample(X.iloc[i:i+1000],sample_size = 1000, n_neighbors = 1000, noise_type = 'normal', alpha = alpha)[0]\n",
    "%timeit -n 1 -r 1 estim.outcomes(X.iloc[i:i+1000], n_neighbors = 1000, alpha = alpha)\n",
    "%timeit -n 1 -r 1 estim.treatment_effect(X.iloc[i:i+1000], n_neighbors = 1000, alpha = alpha, control = 0)"
   ]
  },
  {
   "cell_type": "code",
   "execution_count": null,
   "metadata": {},
   "outputs": [],
   "source": []
  },
  {
   "cell_type": "code",
   "execution_count": 369,
   "metadata": {},
   "outputs": [],
   "source": [
    "#TODO: Implement parallel groupby"
   ]
  },
  {
   "cell_type": "markdown",
   "metadata": {},
   "source": [
    "### Discrete Effect-Continuous Treatment (DECTEstimator)"
   ]
  },
  {
   "cell_type": "code",
   "execution_count": 370,
   "metadata": {},
   "outputs": [],
   "source": [
    "class DECTEstimator(_FKEstimator):\n",
    "    '''\n",
    "    Discrete Effect - Continuous Treatmet estimator\n",
    "    '''            \n",
    "    pass"
   ]
  },
  {
   "cell_type": "markdown",
   "metadata": {},
   "source": [
    "### Discrete Effect-Discrete Treatment (DEDTEstimator)"
   ]
  },
  {
   "cell_type": "code",
   "execution_count": 371,
   "metadata": {},
   "outputs": [],
   "source": [
    "class DEDTEstimator(_FKEstimator):\n",
    "    '''\n",
    "    Discrete Effect - Discrete Treatmet estimator\n",
    "    '''            \n",
    "    pass"
   ]
  },
  {
   "cell_type": "markdown",
   "metadata": {},
   "source": [
    "### Continuous Effect-Continuous Treatment (CECTEstimator)"
   ]
  },
  {
   "cell_type": "code",
   "execution_count": 372,
   "metadata": {},
   "outputs": [],
   "source": [
    "class CECTEstimator(_FKEstimator):\n",
    "    '''\n",
    "    Continuous Effect - Continuous Treatmet estimator\n",
    "    '''            \n",
    "    def sample(\n",
    "        self,\n",
    "        X = None,\n",
    "        n_neighbors = None,\n",
    "        precomputed_neighbors = None,\n",
    "        sample_size = 100,\n",
    "        alpha = 1,\n",
    "        noise_type = 'normal',\n",
    "        variance_mapper='log',\n",
    "        min_var_factor=0.01,\n",
    "    ):\n",
    "        '''\n",
    "        samples target (y) according to pointwise_variance sampling strategy.\n",
    "        if not stratify, samples are drawn randomly from neighbors\n",
    "        '''\n",
    "        \n",
    "        queries = self.query(X, n_neighbors = n_neighbors, precomputed_neighbors = precomputed_neighbors)        \n",
    "        sampled_dfs = []\n",
    "        for q in queries:                        \n",
    "            sampled_values, sampled_idxs = sample_from_neighbors_continuous(                \n",
    "                neighborhood_values = q[self.y_columns_].values,\n",
    "                jac_dists = q['dissimilarity'].values,\n",
    "                size = sample_size, \n",
    "                alpha = alpha,\n",
    "                noise_type = noise_type,\n",
    "                variance_mapper=variance_mapper,\n",
    "                min_var_factor=min_var_factor,\n",
    "            )\n",
    "            \n",
    "            \n",
    "            sampled_df = pd.DataFrame(sampled_values)\n",
    "            sampled_df.columns = self.y_columns_\n",
    "            for col in self.T_columns_:\n",
    "                sampled_df[col] = q[col].values[sampled_idxs]\n",
    "            \n",
    "            sampled_df = sampled_df.set_index(self.T_columns_)\n",
    "            sampled_dfs.append(sampled_df)\n",
    "        \n",
    "        return sampled_dfs\n",
    "    \n",
    "    def counterfactual(self, X, return_var):\n",
    "        '''\n",
    "        returns estimated factual and counterfactual\n",
    "        '''\n",
    "        return\n",
    "    \n",
    "    def infer_cate(self, X, return_var):\n",
    "        '''\n",
    "        infers conditional average treatment effect for each datapoint, taking the\n",
    "        correlation between the target and the treatment in each neighborhood\n",
    "        '''\n",
    "        return\n",
    "    "
   ]
  },
  {
   "cell_type": "markdown",
   "metadata": {},
   "source": [
    "# Export -"
   ]
  },
  {
   "cell_type": "code",
   "execution_count": null,
   "metadata": {},
   "outputs": [],
   "source": [
    "#hide\n",
    "from nbdev.export import notebook2script\n",
    "notebook2script()"
   ]
  }
 ],
 "metadata": {
  "kernelspec": {
   "display_name": "fkausality_venv",
   "language": "python",
   "name": "fkausality_venv"
  },
  "language_info": {
   "codemirror_mode": {
    "name": "ipython",
    "version": 3
   },
   "file_extension": ".py",
   "mimetype": "text/x-python",
   "name": "python",
   "nbconvert_exporter": "python",
   "pygments_lexer": "ipython3",
   "version": "3.7.6"
  },
  "latex_envs": {
   "LaTeX_envs_menu_present": true,
   "autoclose": false,
   "autocomplete": true,
   "bibliofile": "biblio.bib",
   "cite_by": "apalike",
   "current_citInitial": 1,
   "eqLabelWithNumbers": true,
   "eqNumInitial": 1,
   "hotkeys": {
    "equation": "Ctrl-E",
    "itemize": "Ctrl-I"
   },
   "labels_anchors": false,
   "latex_user_defs": false,
   "report_style_numbering": false,
   "user_envs_cfg": false
  },
  "toc": {
   "base_numbering": 1,
   "nav_menu": {},
   "number_sections": true,
   "sideBar": true,
   "skip_h1_title": false,
   "title_cell": "Table of Contents",
   "title_sidebar": "Contents",
   "toc_cell": false,
   "toc_position": {
    "height": "calc(100% - 180px)",
    "left": "10px",
    "top": "150px",
    "width": "250.319px"
   },
   "toc_section_display": true,
   "toc_window_display": false
  }
 },
 "nbformat": 4,
 "nbformat_minor": 4
}
